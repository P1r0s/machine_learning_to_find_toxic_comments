{
 "cells": [
  {
   "cell_type": "markdown",
   "metadata": {},
   "source": [
    "# Проект по распознованию токсичных комментариев"
   ]
  },
  {
   "cell_type": "markdown",
   "metadata": {},
   "source": [
    "Интернет-магазин запускает новый сервис. Теперь пользователи могут редактировать и дополнять описания товаров, как в вики-сообществах. То есть клиенты предлагают свои правки и комментируют изменения других. Магазину нужен инструмент, который будет искать токсичные комментарии и отправлять их на модерацию. \n",
    "\n",
    "Обучим модель классифицировать комментарии на позитивные и негативные. В нашем распоряжении набор данных с разметкой о токсичности правок."
   ]
  },
  {
   "cell_type": "markdown",
   "metadata": {},
   "source": [
    "## Подготовка"
   ]
  },
  {
   "cell_type": "markdown",
   "metadata": {},
   "source": [
    "### Имортируем все необходимые инструмены"
   ]
  },
  {
   "cell_type": "code",
   "execution_count": 1,
   "metadata": {},
   "outputs": [
    {
     "name": "stderr",
     "output_type": "stream",
     "text": [
      "[nltk_data] Downloading package stopwords to\n",
      "[nltk_data]     C:\\Users\\piros\\AppData\\Roaming\\nltk_data...\n",
      "[nltk_data]   Package stopwords is already up-to-date!\n"
     ]
    }
   ],
   "source": [
    "import matplotlib.pyplot as plt\n",
    "import numpy as np\n",
    "import pandas as pd\n",
    "import re\n",
    "import swifter\n",
    "import spacy\n",
    "from sklearn.pipeline import Pipeline\n",
    "from tqdm.notebook import tqdm\n",
    "tqdm.pandas()\n",
    "from pymystem3 import Mystem\n",
    "from nltk.tokenize import word_tokenize\n",
    "import nltk\n",
    "from sklearn.feature_extraction.text import TfidfVectorizer\n",
    "from sklearn.model_selection import (\n",
    "    train_test_split,\n",
    "    GridSearchCV\n",
    ")\n",
    "from sklearn.linear_model import LogisticRegression\n",
    "from sklearn.tree import DecisionTreeClassifier\n",
    "from sklearn.feature_extraction.text import (\n",
    "    CountVectorizer,\n",
    "    TfidfTransformer\n",
    ")\n",
    "from nltk.stem import WordNetLemmatizer\n",
    "from catboost import CatBoostClassifier\n",
    "from sklearn.metrics import f1_score\n",
    "nltk.download('stopwords')\n",
    "from nltk.corpus import (\n",
    "    stopwords,\n",
    "    wordnet\n",
    ")\n",
    "import warnings\n",
    "warnings.filterwarnings('ignore')"
   ]
  },
  {
   "cell_type": "markdown",
   "metadata": {},
   "source": [
    "### Загрузим данные"
   ]
  },
  {
   "cell_type": "code",
   "execution_count": 2,
   "metadata": {},
   "outputs": [],
   "source": [
    "try:\n",
    "    data = pd.read_csv(\"/datasets/toxic_comments.csv\", index_col=0)\n",
    "except:\n",
    "    data = pd.read_csv('toxic_comments.csv', index_col=0)"
   ]
  },
  {
   "cell_type": "markdown",
   "metadata": {},
   "source": [
    "### Откроем первые 5 строк каждой таблицы"
   ]
  },
  {
   "cell_type": "code",
   "execution_count": 3,
   "metadata": {},
   "outputs": [
    {
     "data": {
      "text/html": [
       "<div>\n",
       "<style scoped>\n",
       "    .dataframe tbody tr th:only-of-type {\n",
       "        vertical-align: middle;\n",
       "    }\n",
       "\n",
       "    .dataframe tbody tr th {\n",
       "        vertical-align: top;\n",
       "    }\n",
       "\n",
       "    .dataframe thead th {\n",
       "        text-align: right;\n",
       "    }\n",
       "</style>\n",
       "<table border=\"1\" class=\"dataframe\">\n",
       "  <thead>\n",
       "    <tr style=\"text-align: right;\">\n",
       "      <th></th>\n",
       "      <th>text</th>\n",
       "      <th>toxic</th>\n",
       "    </tr>\n",
       "  </thead>\n",
       "  <tbody>\n",
       "    <tr>\n",
       "      <th>125262</th>\n",
       "      <td>\"\\nSince QG pointed out the cigalike is hard t...</td>\n",
       "      <td>0</td>\n",
       "    </tr>\n",
       "    <tr>\n",
       "      <th>75151</th>\n",
       "      <td>Let me make it perfectly clear... \\n\\n...that ...</td>\n",
       "      <td>1</td>\n",
       "    </tr>\n",
       "    <tr>\n",
       "      <th>48686</th>\n",
       "      <td>\"::::::::That can't be right, because WP:WORDI...</td>\n",
       "      <td>0</td>\n",
       "    </tr>\n",
       "    <tr>\n",
       "      <th>72664</th>\n",
       "      <td>Or, if you need a link to confirm this: []</td>\n",
       "      <td>0</td>\n",
       "    </tr>\n",
       "    <tr>\n",
       "      <th>134707</th>\n",
       "      <td>Tony, I thought WP:CIV was cancelled on Monday...</td>\n",
       "      <td>0</td>\n",
       "    </tr>\n",
       "  </tbody>\n",
       "</table>\n",
       "</div>"
      ],
      "text/plain": [
       "                                                     text  toxic\n",
       "125262  \"\\nSince QG pointed out the cigalike is hard t...      0\n",
       "75151   Let me make it perfectly clear... \\n\\n...that ...      1\n",
       "48686   \"::::::::That can't be right, because WP:WORDI...      0\n",
       "72664          Or, if you need a link to confirm this: []      0\n",
       "134707  Tony, I thought WP:CIV was cancelled on Monday...      0"
      ]
     },
     "execution_count": 3,
     "metadata": {},
     "output_type": "execute_result"
    }
   ],
   "source": [
    "data.sample(5)"
   ]
  },
  {
   "cell_type": "markdown",
   "metadata": {},
   "source": [
    "### Посмотрим информацию о данных"
   ]
  },
  {
   "cell_type": "code",
   "execution_count": 4,
   "metadata": {},
   "outputs": [
    {
     "name": "stdout",
     "output_type": "stream",
     "text": [
      "<class 'pandas.core.frame.DataFrame'>\n",
      "Int64Index: 159292 entries, 0 to 159450\n",
      "Data columns (total 2 columns):\n",
      " #   Column  Non-Null Count   Dtype \n",
      "---  ------  --------------   ----- \n",
      " 0   text    159292 non-null  object\n",
      " 1   toxic   159292 non-null  int64 \n",
      "dtypes: int64(1), object(1)\n",
      "memory usage: 3.6+ MB\n"
     ]
    }
   ],
   "source": [
    "data.info()"
   ]
  },
  {
   "cell_type": "markdown",
   "metadata": {},
   "source": [
    "### Посмотрим баланс у целевого признака"
   ]
  },
  {
   "cell_type": "code",
   "execution_count": 5,
   "metadata": {
    "scrolled": true
   },
   "outputs": [
    {
     "data": {
      "text/plain": [
       "0    143106\n",
       "1     16186\n",
       "Name: toxic, dtype: int64"
      ]
     },
     "execution_count": 5,
     "metadata": {},
     "output_type": "execute_result"
    }
   ],
   "source": [
    "data['toxic'].value_counts()"
   ]
  },
  {
   "cell_type": "markdown",
   "metadata": {},
   "source": [
    "**Наблюдаем дисбаланс**"
   ]
  },
  {
   "cell_type": "markdown",
   "metadata": {},
   "source": [
    "### Приведём текст к нижнему регистру"
   ]
  },
  {
   "cell_type": "code",
   "execution_count": 6,
   "metadata": {},
   "outputs": [],
   "source": [
    "data['text'] = data['text'].str.lower()"
   ]
  },
  {
   "cell_type": "markdown",
   "metadata": {},
   "source": [
    "### Лемматизируем текст в колонке с признаком"
   ]
  },
  {
   "cell_type": "code",
   "execution_count": 7,
   "metadata": {},
   "outputs": [],
   "source": [
    "nlp = spacy.load(\"en_core_web_sm\")"
   ]
  },
  {
   "cell_type": "code",
   "execution_count": 8,
   "metadata": {},
   "outputs": [],
   "source": [
    "def clear_text(text):\n",
    "    lists = re.sub(r'[^a-zA-Z ]', ' ', text.lower())\n",
    "    words = lists.split()\n",
    "    words = \" \".join(words) \n",
    "    return words"
   ]
  },
  {
   "cell_type": "code",
   "execution_count": 9,
   "metadata": {},
   "outputs": [],
   "source": [
    "def lemma_clear(text): \n",
    "      \n",
    "    lemm = nlp(text) \n",
    "    lemm = \" \".join([token.lemma_ for token in lemm])  \n",
    "    return \" \".join(lemm.split())"
   ]
  },
  {
   "cell_type": "code",
   "execution_count": 10,
   "metadata": {},
   "outputs": [],
   "source": [
    "data['lemm_text'] = data['text'].apply(clear_text)"
   ]
  },
  {
   "cell_type": "code",
   "execution_count": 11,
   "metadata": {},
   "outputs": [],
   "source": [
    "data['lemm_text'] = data['lemm_text'].apply(lemma_clear)"
   ]
  },
  {
   "cell_type": "code",
   "execution_count": 12,
   "metadata": {},
   "outputs": [
    {
     "data": {
      "text/html": [
       "<div>\n",
       "<style scoped>\n",
       "    .dataframe tbody tr th:only-of-type {\n",
       "        vertical-align: middle;\n",
       "    }\n",
       "\n",
       "    .dataframe tbody tr th {\n",
       "        vertical-align: top;\n",
       "    }\n",
       "\n",
       "    .dataframe thead th {\n",
       "        text-align: right;\n",
       "    }\n",
       "</style>\n",
       "<table border=\"1\" class=\"dataframe\">\n",
       "  <thead>\n",
       "    <tr style=\"text-align: right;\">\n",
       "      <th></th>\n",
       "      <th>text</th>\n",
       "      <th>toxic</th>\n",
       "      <th>lemm_text</th>\n",
       "    </tr>\n",
       "  </thead>\n",
       "  <tbody>\n",
       "    <tr>\n",
       "      <th>0</th>\n",
       "      <td>explanation\\nwhy the edits made under my usern...</td>\n",
       "      <td>0</td>\n",
       "      <td>explanation why the edit make under my usernam...</td>\n",
       "    </tr>\n",
       "    <tr>\n",
       "      <th>1</th>\n",
       "      <td>d'aww! he matches this background colour i'm s...</td>\n",
       "      <td>0</td>\n",
       "      <td>d aww he match this background colour I m seem...</td>\n",
       "    </tr>\n",
       "    <tr>\n",
       "      <th>2</th>\n",
       "      <td>hey man, i'm really not trying to edit war. it...</td>\n",
       "      <td>0</td>\n",
       "      <td>hey man I m really not try to edit war it s ju...</td>\n",
       "    </tr>\n",
       "    <tr>\n",
       "      <th>3</th>\n",
       "      <td>\"\\nmore\\ni can't make any real suggestions on ...</td>\n",
       "      <td>0</td>\n",
       "      <td>more I can t make any real suggestion on impro...</td>\n",
       "    </tr>\n",
       "    <tr>\n",
       "      <th>4</th>\n",
       "      <td>you, sir, are my hero. any chance you remember...</td>\n",
       "      <td>0</td>\n",
       "      <td>you sir be my hero any chance you remember wha...</td>\n",
       "    </tr>\n",
       "  </tbody>\n",
       "</table>\n",
       "</div>"
      ],
      "text/plain": [
       "                                                text  toxic  \\\n",
       "0  explanation\\nwhy the edits made under my usern...      0   \n",
       "1  d'aww! he matches this background colour i'm s...      0   \n",
       "2  hey man, i'm really not trying to edit war. it...      0   \n",
       "3  \"\\nmore\\ni can't make any real suggestions on ...      0   \n",
       "4  you, sir, are my hero. any chance you remember...      0   \n",
       "\n",
       "                                           lemm_text  \n",
       "0  explanation why the edit make under my usernam...  \n",
       "1  d aww he match this background colour I m seem...  \n",
       "2  hey man I m really not try to edit war it s ju...  \n",
       "3  more I can t make any real suggestion on impro...  \n",
       "4  you sir be my hero any chance you remember wha...  "
      ]
     },
     "execution_count": 12,
     "metadata": {},
     "output_type": "execute_result"
    }
   ],
   "source": [
    "data.head()"
   ]
  },
  {
   "cell_type": "markdown",
   "metadata": {},
   "source": [
    "### Подготовим данные к обучению моделей"
   ]
  },
  {
   "cell_type": "code",
   "execution_count": 13,
   "metadata": {},
   "outputs": [],
   "source": [
    "target = data['toxic']\n",
    "features = data['lemm_text']"
   ]
  },
  {
   "cell_type": "code",
   "execution_count": 14,
   "metadata": {},
   "outputs": [
    {
     "data": {
      "text/plain": [
       "((95575,), (31858,), (31859,))"
      ]
     },
     "execution_count": 14,
     "metadata": {},
     "output_type": "execute_result"
    }
   ],
   "source": [
    "features_train, features_test, target_train, test_target = train_test_split(\n",
    "    features, target, test_size=0.4, random_state=12345, stratify=target)\n",
    "\n",
    "features_valid, features_test, target_valid, test_target = train_test_split(\n",
    "    features_test, test_target, test_size=0.50, random_state=12345, stratify=test_target)\n",
    "\n",
    "features_train.shape, features_valid.shape, features_test.shape"
   ]
  },
  {
   "cell_type": "markdown",
   "metadata": {},
   "source": [
    "### Уберём в признаках стоп-слова"
   ]
  },
  {
   "cell_type": "code",
   "execution_count": 15,
   "metadata": {},
   "outputs": [],
   "source": [
    "stopwords = stopwords.words('english')"
   ]
  },
  {
   "cell_type": "code",
   "execution_count": 16,
   "metadata": {},
   "outputs": [],
   "source": [
    "count_tf_idf = TfidfVectorizer(stop_words=list(stopwords))"
   ]
  },
  {
   "cell_type": "code",
   "execution_count": 17,
   "metadata": {},
   "outputs": [],
   "source": [
    "tf_idf_train = count_tf_idf.fit_transform(features_train)\n",
    "tf_idf_test = count_tf_idf.transform(features_test)\n",
    "tf_idf_valid = count_tf_idf.transform(features_valid)"
   ]
  },
  {
   "cell_type": "markdown",
   "metadata": {},
   "source": [
    "## Обучение"
   ]
  },
  {
   "cell_type": "markdown",
   "metadata": {},
   "source": [
    "### Модель логической регрессии"
   ]
  },
  {
   "cell_type": "code",
   "execution_count": 18,
   "metadata": {},
   "outputs": [
    {
     "data": {
      "text/plain": [
       "0.7781793150920667"
      ]
     },
     "execution_count": 18,
     "metadata": {},
     "output_type": "execute_result"
    }
   ],
   "source": [
    "scoring = 'f1'\n",
    "CV = 4\n",
    "\n",
    "pipeline_logr = Pipeline([\n",
    "    ('vectorizer', TfidfVectorizer()),\n",
    "    ('classifier', LogisticRegression(random_state=12345))\n",
    "])\n",
    "\n",
    "params = {\n",
    "    'vectorizer__ngram_range': [(1,1), (1,2)],\n",
    "    'classifier__penalty': ['l1', 'l2'],\n",
    "    'classifier__C': [0.01, 0.1, 1, 10, 100]\n",
    "}\n",
    "\n",
    "grid = GridSearchCV(pipeline_logr, cv=CV, n_jobs=-1, param_grid=params ,scoring=scoring)\n",
    "grid.fit(features_train, target_train)\n",
    "grid.score(features_test, test_target)"
   ]
  },
  {
   "cell_type": "markdown",
   "metadata": {},
   "source": [
    "**Модель логической регрессии показала лучший результат:**\n",
    "\n",
    "***На тестовой выборке 0.77***"
   ]
  },
  {
   "cell_type": "markdown",
   "metadata": {},
   "source": [
    "### Модель решающего древа"
   ]
  },
  {
   "cell_type": "code",
   "execution_count": 19,
   "metadata": {},
   "outputs": [
    {
     "data": {
      "text/plain": [
       "0.5254382214621633"
      ]
     },
     "execution_count": 19,
     "metadata": {},
     "output_type": "execute_result"
    }
   ],
   "source": [
    "model_tree = DecisionTreeClassifier(\n",
    "            random_state=12345,\n",
    "            max_depth=8,\n",
    "            min_samples_split=10,\n",
    "            min_samples_leaf=10,\n",
    "            class_weight='balanced'\n",
    "            )\n",
    "model_tree.fit(tf_idf_train, target_train)\n",
    "predictions = model_tree.predict(tf_idf_test)\n",
    "f1_score(test_target, predictions)"
   ]
  },
  {
   "cell_type": "markdown",
   "metadata": {},
   "source": [
    "**К сожалению решающее древо показало плохой результат на тестовой выборке 0.52**"
   ]
  },
  {
   "cell_type": "markdown",
   "metadata": {},
   "source": [
    "### Модель CatBoostClassifier"
   ]
  },
  {
   "cell_type": "code",
   "execution_count": 20,
   "metadata": {},
   "outputs": [
    {
     "name": "stdout",
     "output_type": "stream",
     "text": [
      "Learning rate set to 0.5\n",
      "0:\tlearn: 0.3561758\ttotal: 246ms\tremaining: 24.4s\n",
      "1:\tlearn: 0.2811307\ttotal: 333ms\tremaining: 16.3s\n",
      "2:\tlearn: 0.2583851\ttotal: 422ms\tremaining: 13.6s\n",
      "3:\tlearn: 0.2467951\ttotal: 512ms\tremaining: 12.3s\n",
      "4:\tlearn: 0.2388936\ttotal: 601ms\tremaining: 11.4s\n",
      "5:\tlearn: 0.2331570\ttotal: 688ms\tremaining: 10.8s\n",
      "6:\tlearn: 0.2290555\ttotal: 778ms\tremaining: 10.3s\n",
      "7:\tlearn: 0.2258873\ttotal: 868ms\tremaining: 9.98s\n",
      "8:\tlearn: 0.2198779\ttotal: 953ms\tremaining: 9.63s\n",
      "9:\tlearn: 0.2165926\ttotal: 1.04s\tremaining: 9.41s\n",
      "10:\tlearn: 0.2133789\ttotal: 1.13s\tremaining: 9.17s\n",
      "11:\tlearn: 0.2104942\ttotal: 1.22s\tremaining: 8.96s\n",
      "12:\tlearn: 0.2077081\ttotal: 1.31s\tremaining: 8.76s\n",
      "13:\tlearn: 0.2043322\ttotal: 1.4s\tremaining: 8.58s\n",
      "14:\tlearn: 0.2025165\ttotal: 1.49s\tremaining: 8.42s\n",
      "15:\tlearn: 0.2005247\ttotal: 1.57s\tremaining: 8.26s\n",
      "16:\tlearn: 0.1986823\ttotal: 1.66s\tremaining: 8.1s\n",
      "17:\tlearn: 0.1953375\ttotal: 1.75s\tremaining: 7.99s\n",
      "18:\tlearn: 0.1938129\ttotal: 1.84s\tremaining: 7.86s\n",
      "19:\tlearn: 0.1919813\ttotal: 1.93s\tremaining: 7.73s\n",
      "20:\tlearn: 0.1906338\ttotal: 2.02s\tremaining: 7.61s\n",
      "21:\tlearn: 0.1894022\ttotal: 2.11s\tremaining: 7.47s\n",
      "22:\tlearn: 0.1880753\ttotal: 2.19s\tremaining: 7.34s\n",
      "23:\tlearn: 0.1868166\ttotal: 2.28s\tremaining: 7.22s\n",
      "24:\tlearn: 0.1850567\ttotal: 2.37s\tremaining: 7.11s\n",
      "25:\tlearn: 0.1838997\ttotal: 2.46s\tremaining: 6.99s\n",
      "26:\tlearn: 0.1825105\ttotal: 2.54s\tremaining: 6.87s\n",
      "27:\tlearn: 0.1803258\ttotal: 2.63s\tremaining: 6.76s\n",
      "28:\tlearn: 0.1792258\ttotal: 2.71s\tremaining: 6.64s\n",
      "29:\tlearn: 0.1782456\ttotal: 2.8s\tremaining: 6.54s\n",
      "30:\tlearn: 0.1774679\ttotal: 2.89s\tremaining: 6.44s\n",
      "31:\tlearn: 0.1762530\ttotal: 2.98s\tremaining: 6.34s\n",
      "32:\tlearn: 0.1754042\ttotal: 3.08s\tremaining: 6.25s\n",
      "33:\tlearn: 0.1745528\ttotal: 3.17s\tremaining: 6.15s\n",
      "34:\tlearn: 0.1736852\ttotal: 3.26s\tremaining: 6.05s\n",
      "35:\tlearn: 0.1730271\ttotal: 3.35s\tremaining: 5.95s\n",
      "36:\tlearn: 0.1718126\ttotal: 3.44s\tremaining: 5.85s\n",
      "37:\tlearn: 0.1710307\ttotal: 3.52s\tremaining: 5.75s\n",
      "38:\tlearn: 0.1702187\ttotal: 3.61s\tremaining: 5.65s\n",
      "39:\tlearn: 0.1696763\ttotal: 3.7s\tremaining: 5.55s\n",
      "40:\tlearn: 0.1683577\ttotal: 3.79s\tremaining: 5.46s\n",
      "41:\tlearn: 0.1677321\ttotal: 3.88s\tremaining: 5.36s\n",
      "42:\tlearn: 0.1671672\ttotal: 3.97s\tremaining: 5.26s\n",
      "43:\tlearn: 0.1665918\ttotal: 4.09s\tremaining: 5.2s\n",
      "44:\tlearn: 0.1660228\ttotal: 4.18s\tremaining: 5.11s\n",
      "45:\tlearn: 0.1648117\ttotal: 4.27s\tremaining: 5.01s\n",
      "46:\tlearn: 0.1642430\ttotal: 4.35s\tremaining: 4.91s\n",
      "47:\tlearn: 0.1637198\ttotal: 4.44s\tremaining: 4.81s\n",
      "48:\tlearn: 0.1630640\ttotal: 4.53s\tremaining: 4.71s\n",
      "49:\tlearn: 0.1626436\ttotal: 4.61s\tremaining: 4.61s\n",
      "50:\tlearn: 0.1621242\ttotal: 4.7s\tremaining: 4.51s\n",
      "51:\tlearn: 0.1612633\ttotal: 4.79s\tremaining: 4.42s\n",
      "52:\tlearn: 0.1608195\ttotal: 4.88s\tremaining: 4.32s\n",
      "53:\tlearn: 0.1603850\ttotal: 4.96s\tremaining: 4.23s\n",
      "54:\tlearn: 0.1600090\ttotal: 5.05s\tremaining: 4.13s\n",
      "55:\tlearn: 0.1595155\ttotal: 5.14s\tremaining: 4.04s\n",
      "56:\tlearn: 0.1590202\ttotal: 5.23s\tremaining: 3.94s\n",
      "57:\tlearn: 0.1584610\ttotal: 5.32s\tremaining: 3.85s\n",
      "58:\tlearn: 0.1581122\ttotal: 5.41s\tremaining: 3.76s\n",
      "59:\tlearn: 0.1572240\ttotal: 5.5s\tremaining: 3.67s\n",
      "60:\tlearn: 0.1566102\ttotal: 5.59s\tremaining: 3.57s\n",
      "61:\tlearn: 0.1561228\ttotal: 5.67s\tremaining: 3.48s\n",
      "62:\tlearn: 0.1555724\ttotal: 5.76s\tremaining: 3.38s\n",
      "63:\tlearn: 0.1552715\ttotal: 5.85s\tremaining: 3.29s\n",
      "64:\tlearn: 0.1549176\ttotal: 5.94s\tremaining: 3.2s\n",
      "65:\tlearn: 0.1544369\ttotal: 6.03s\tremaining: 3.1s\n",
      "66:\tlearn: 0.1540779\ttotal: 6.11s\tremaining: 3.01s\n",
      "67:\tlearn: 0.1536975\ttotal: 6.2s\tremaining: 2.92s\n",
      "68:\tlearn: 0.1531455\ttotal: 6.29s\tremaining: 2.83s\n",
      "69:\tlearn: 0.1527740\ttotal: 6.38s\tremaining: 2.73s\n",
      "70:\tlearn: 0.1523518\ttotal: 6.47s\tremaining: 2.64s\n",
      "71:\tlearn: 0.1518989\ttotal: 6.56s\tremaining: 2.55s\n",
      "72:\tlearn: 0.1515563\ttotal: 6.65s\tremaining: 2.46s\n",
      "73:\tlearn: 0.1512385\ttotal: 6.74s\tremaining: 2.37s\n",
      "74:\tlearn: 0.1506710\ttotal: 6.83s\tremaining: 2.28s\n",
      "75:\tlearn: 0.1502373\ttotal: 6.92s\tremaining: 2.18s\n",
      "76:\tlearn: 0.1499315\ttotal: 7s\tremaining: 2.09s\n",
      "77:\tlearn: 0.1497054\ttotal: 7.09s\tremaining: 2s\n",
      "78:\tlearn: 0.1494893\ttotal: 7.18s\tremaining: 1.91s\n",
      "79:\tlearn: 0.1491898\ttotal: 7.26s\tremaining: 1.81s\n",
      "80:\tlearn: 0.1487661\ttotal: 7.35s\tremaining: 1.72s\n",
      "81:\tlearn: 0.1485023\ttotal: 7.44s\tremaining: 1.63s\n",
      "82:\tlearn: 0.1480911\ttotal: 7.52s\tremaining: 1.54s\n",
      "83:\tlearn: 0.1477338\ttotal: 7.61s\tremaining: 1.45s\n",
      "84:\tlearn: 0.1474473\ttotal: 7.7s\tremaining: 1.36s\n",
      "85:\tlearn: 0.1471680\ttotal: 7.78s\tremaining: 1.27s\n",
      "86:\tlearn: 0.1469230\ttotal: 7.87s\tremaining: 1.18s\n",
      "87:\tlearn: 0.1466481\ttotal: 7.96s\tremaining: 1.08s\n",
      "88:\tlearn: 0.1463604\ttotal: 8.04s\tremaining: 994ms\n",
      "89:\tlearn: 0.1460906\ttotal: 8.13s\tremaining: 903ms\n",
      "90:\tlearn: 0.1456927\ttotal: 8.22s\tremaining: 813ms\n",
      "91:\tlearn: 0.1455076\ttotal: 8.3s\tremaining: 722ms\n",
      "92:\tlearn: 0.1449482\ttotal: 8.39s\tremaining: 632ms\n",
      "93:\tlearn: 0.1447599\ttotal: 8.49s\tremaining: 542ms\n",
      "94:\tlearn: 0.1445212\ttotal: 8.58s\tremaining: 451ms\n",
      "95:\tlearn: 0.1439790\ttotal: 8.66s\tremaining: 361ms\n",
      "96:\tlearn: 0.1437474\ttotal: 8.74s\tremaining: 270ms\n",
      "97:\tlearn: 0.1434903\ttotal: 8.84s\tremaining: 180ms\n",
      "98:\tlearn: 0.1432800\ttotal: 8.92s\tremaining: 90.1ms\n",
      "99:\tlearn: 0.1429079\ttotal: 9s\tremaining: 0us\n",
      "Learning rate set to 0.5\n",
      "0:\tlearn: 0.3434284\ttotal: 204ms\tremaining: 20.2s\n",
      "1:\tlearn: 0.2650460\ttotal: 375ms\tremaining: 18.4s\n",
      "2:\tlearn: 0.2391882\ttotal: 550ms\tremaining: 17.8s\n",
      "3:\tlearn: 0.2280913\ttotal: 719ms\tremaining: 17.2s\n",
      "4:\tlearn: 0.2177753\ttotal: 895ms\tremaining: 17s\n",
      "5:\tlearn: 0.2120526\ttotal: 1.07s\tremaining: 16.7s\n",
      "6:\tlearn: 0.2057873\ttotal: 1.25s\tremaining: 16.6s\n",
      "7:\tlearn: 0.2013825\ttotal: 1.42s\tremaining: 16.3s\n",
      "8:\tlearn: 0.1981878\ttotal: 1.59s\tremaining: 16.1s\n",
      "9:\tlearn: 0.1925649\ttotal: 1.77s\tremaining: 16s\n",
      "10:\tlearn: 0.1897998\ttotal: 1.95s\tremaining: 15.7s\n",
      "11:\tlearn: 0.1874903\ttotal: 2.13s\tremaining: 15.6s\n",
      "12:\tlearn: 0.1853651\ttotal: 2.29s\tremaining: 15.4s\n",
      "13:\tlearn: 0.1828444\ttotal: 2.47s\tremaining: 15.2s\n",
      "14:\tlearn: 0.1797854\ttotal: 2.65s\tremaining: 15s\n",
      "15:\tlearn: 0.1778095\ttotal: 2.82s\tremaining: 14.8s\n",
      "16:\tlearn: 0.1763901\ttotal: 3s\tremaining: 14.7s\n",
      "17:\tlearn: 0.1744786\ttotal: 3.19s\tremaining: 14.5s\n",
      "18:\tlearn: 0.1728621\ttotal: 3.36s\tremaining: 14.3s\n",
      "19:\tlearn: 0.1715221\ttotal: 3.53s\tremaining: 14.1s\n",
      "20:\tlearn: 0.1703636\ttotal: 3.71s\tremaining: 13.9s\n",
      "21:\tlearn: 0.1686976\ttotal: 3.88s\tremaining: 13.8s\n",
      "22:\tlearn: 0.1675660\ttotal: 4.05s\tremaining: 13.6s\n",
      "23:\tlearn: 0.1664401\ttotal: 4.23s\tremaining: 13.4s\n",
      "24:\tlearn: 0.1642547\ttotal: 4.43s\tremaining: 13.3s\n",
      "25:\tlearn: 0.1630675\ttotal: 4.62s\tremaining: 13.1s\n",
      "26:\tlearn: 0.1616559\ttotal: 4.8s\tremaining: 13s\n",
      "27:\tlearn: 0.1605841\ttotal: 4.97s\tremaining: 12.8s\n",
      "28:\tlearn: 0.1596473\ttotal: 5.17s\tremaining: 12.6s\n",
      "29:\tlearn: 0.1588287\ttotal: 5.35s\tremaining: 12.5s\n",
      "30:\tlearn: 0.1578790\ttotal: 5.53s\tremaining: 12.3s\n",
      "31:\tlearn: 0.1567018\ttotal: 5.7s\tremaining: 12.1s\n",
      "32:\tlearn: 0.1556741\ttotal: 5.88s\tremaining: 11.9s\n",
      "33:\tlearn: 0.1542367\ttotal: 6.04s\tremaining: 11.7s\n",
      "34:\tlearn: 0.1533639\ttotal: 6.24s\tremaining: 11.6s\n",
      "35:\tlearn: 0.1526216\ttotal: 6.41s\tremaining: 11.4s\n",
      "36:\tlearn: 0.1519134\ttotal: 6.58s\tremaining: 11.2s\n",
      "37:\tlearn: 0.1511103\ttotal: 6.76s\tremaining: 11s\n",
      "38:\tlearn: 0.1503370\ttotal: 6.94s\tremaining: 10.9s\n",
      "39:\tlearn: 0.1495077\ttotal: 7.13s\tremaining: 10.7s\n",
      "40:\tlearn: 0.1485862\ttotal: 7.3s\tremaining: 10.5s\n",
      "41:\tlearn: 0.1478221\ttotal: 7.49s\tremaining: 10.3s\n",
      "42:\tlearn: 0.1473383\ttotal: 7.66s\tremaining: 10.2s\n",
      "43:\tlearn: 0.1468045\ttotal: 7.83s\tremaining: 9.97s\n",
      "44:\tlearn: 0.1461298\ttotal: 8s\tremaining: 9.78s\n",
      "45:\tlearn: 0.1453308\ttotal: 8.18s\tremaining: 9.6s\n",
      "46:\tlearn: 0.1448433\ttotal: 8.35s\tremaining: 9.42s\n",
      "47:\tlearn: 0.1443849\ttotal: 8.52s\tremaining: 9.23s\n",
      "48:\tlearn: 0.1437943\ttotal: 8.69s\tremaining: 9.04s\n",
      "49:\tlearn: 0.1428985\ttotal: 8.88s\tremaining: 8.88s\n",
      "50:\tlearn: 0.1424230\ttotal: 9.04s\tremaining: 8.69s\n",
      "51:\tlearn: 0.1419608\ttotal: 9.22s\tremaining: 8.51s\n",
      "52:\tlearn: 0.1415949\ttotal: 9.38s\tremaining: 8.32s\n",
      "53:\tlearn: 0.1411093\ttotal: 9.55s\tremaining: 8.13s\n",
      "54:\tlearn: 0.1407000\ttotal: 9.73s\tremaining: 7.96s\n",
      "55:\tlearn: 0.1402037\ttotal: 9.89s\tremaining: 7.77s\n",
      "56:\tlearn: 0.1397047\ttotal: 10.1s\tremaining: 7.59s\n",
      "57:\tlearn: 0.1392378\ttotal: 10.2s\tremaining: 7.41s\n",
      "58:\tlearn: 0.1389497\ttotal: 10.4s\tremaining: 7.23s\n",
      "59:\tlearn: 0.1384051\ttotal: 10.6s\tremaining: 7.05s\n",
      "60:\tlearn: 0.1381071\ttotal: 10.7s\tremaining: 6.87s\n",
      "61:\tlearn: 0.1374928\ttotal: 10.9s\tremaining: 6.69s\n",
      "62:\tlearn: 0.1368290\ttotal: 11.1s\tremaining: 6.52s\n",
      "63:\tlearn: 0.1365367\ttotal: 11.3s\tremaining: 6.34s\n",
      "64:\tlearn: 0.1359317\ttotal: 11.4s\tremaining: 6.16s\n",
      "65:\tlearn: 0.1354188\ttotal: 11.6s\tremaining: 5.98s\n",
      "66:\tlearn: 0.1351200\ttotal: 11.8s\tremaining: 5.8s\n",
      "67:\tlearn: 0.1346790\ttotal: 11.9s\tremaining: 5.62s\n",
      "68:\tlearn: 0.1343954\ttotal: 12.1s\tremaining: 5.44s\n",
      "69:\tlearn: 0.1340404\ttotal: 12.3s\tremaining: 5.26s\n",
      "70:\tlearn: 0.1337247\ttotal: 12.5s\tremaining: 5.09s\n",
      "71:\tlearn: 0.1332714\ttotal: 12.6s\tremaining: 4.91s\n",
      "72:\tlearn: 0.1328876\ttotal: 12.8s\tremaining: 4.73s\n",
      "73:\tlearn: 0.1325867\ttotal: 13s\tremaining: 4.55s\n",
      "74:\tlearn: 0.1320501\ttotal: 13.1s\tremaining: 4.38s\n",
      "75:\tlearn: 0.1318370\ttotal: 13.3s\tremaining: 4.21s\n",
      "76:\tlearn: 0.1313911\ttotal: 13.5s\tremaining: 4.03s\n",
      "77:\tlearn: 0.1311676\ttotal: 13.7s\tremaining: 3.85s\n",
      "78:\tlearn: 0.1309689\ttotal: 13.8s\tremaining: 3.67s\n",
      "79:\tlearn: 0.1307601\ttotal: 14s\tremaining: 3.5s\n",
      "80:\tlearn: 0.1303359\ttotal: 14.2s\tremaining: 3.32s\n",
      "81:\tlearn: 0.1301221\ttotal: 14.3s\tremaining: 3.15s\n",
      "82:\tlearn: 0.1299489\ttotal: 14.5s\tremaining: 2.97s\n",
      "83:\tlearn: 0.1294150\ttotal: 14.7s\tremaining: 2.79s\n",
      "84:\tlearn: 0.1289954\ttotal: 14.8s\tremaining: 2.62s\n",
      "85:\tlearn: 0.1287714\ttotal: 15s\tremaining: 2.44s\n",
      "86:\tlearn: 0.1285456\ttotal: 15.2s\tremaining: 2.27s\n",
      "87:\tlearn: 0.1283517\ttotal: 15.3s\tremaining: 2.09s\n",
      "88:\tlearn: 0.1280527\ttotal: 15.5s\tremaining: 1.92s\n",
      "89:\tlearn: 0.1278469\ttotal: 15.7s\tremaining: 1.74s\n",
      "90:\tlearn: 0.1273157\ttotal: 15.9s\tremaining: 1.57s\n",
      "91:\tlearn: 0.1271358\ttotal: 16s\tremaining: 1.39s\n",
      "92:\tlearn: 0.1269385\ttotal: 16.2s\tremaining: 1.22s\n",
      "93:\tlearn: 0.1266320\ttotal: 16.4s\tremaining: 1.04s\n",
      "94:\tlearn: 0.1264434\ttotal: 16.5s\tremaining: 871ms\n",
      "95:\tlearn: 0.1260181\ttotal: 16.7s\tremaining: 696ms\n",
      "96:\tlearn: 0.1256041\ttotal: 16.9s\tremaining: 522ms\n",
      "97:\tlearn: 0.1254295\ttotal: 17s\tremaining: 348ms\n",
      "98:\tlearn: 0.1250737\ttotal: 17.2s\tremaining: 174ms\n",
      "99:\tlearn: 0.1246707\ttotal: 17.4s\tremaining: 0us\n",
      "Learning rate set to 0.5\n",
      "0:\tlearn: 0.3371527\ttotal: 384ms\tremaining: 38s\n",
      "1:\tlearn: 0.2542331\ttotal: 736ms\tremaining: 36s\n",
      "2:\tlearn: 0.2266571\ttotal: 1.1s\tremaining: 35.5s\n",
      "3:\tlearn: 0.2146224\ttotal: 1.44s\tremaining: 34.6s\n",
      "4:\tlearn: 0.2049930\ttotal: 1.78s\tremaining: 33.9s\n",
      "5:\tlearn: 0.1991860\ttotal: 2.13s\tremaining: 33.4s\n",
      "6:\tlearn: 0.1939800\ttotal: 2.48s\tremaining: 32.9s\n",
      "7:\tlearn: 0.1871269\ttotal: 2.84s\tremaining: 32.7s\n",
      "8:\tlearn: 0.1832185\ttotal: 3.19s\tremaining: 32.2s\n",
      "9:\tlearn: 0.1796040\ttotal: 3.53s\tremaining: 31.8s\n",
      "10:\tlearn: 0.1766989\ttotal: 3.9s\tremaining: 31.5s\n",
      "11:\tlearn: 0.1746156\ttotal: 4.25s\tremaining: 31.1s\n",
      "12:\tlearn: 0.1721775\ttotal: 4.58s\tremaining: 30.7s\n",
      "13:\tlearn: 0.1697273\ttotal: 4.93s\tremaining: 30.3s\n",
      "14:\tlearn: 0.1679160\ttotal: 5.29s\tremaining: 30s\n",
      "15:\tlearn: 0.1662225\ttotal: 5.62s\tremaining: 29.5s\n",
      "16:\tlearn: 0.1644235\ttotal: 5.96s\tremaining: 29.1s\n",
      "17:\tlearn: 0.1629324\ttotal: 6.33s\tremaining: 28.8s\n",
      "18:\tlearn: 0.1613522\ttotal: 6.67s\tremaining: 28.4s\n",
      "19:\tlearn: 0.1591611\ttotal: 7.02s\tremaining: 28.1s\n",
      "20:\tlearn: 0.1569585\ttotal: 7.37s\tremaining: 27.7s\n",
      "21:\tlearn: 0.1558526\ttotal: 7.71s\tremaining: 27.3s\n",
      "22:\tlearn: 0.1545822\ttotal: 8.04s\tremaining: 26.9s\n",
      "23:\tlearn: 0.1530534\ttotal: 8.4s\tremaining: 26.6s\n",
      "24:\tlearn: 0.1517913\ttotal: 8.76s\tremaining: 26.3s\n",
      "25:\tlearn: 0.1508166\ttotal: 9.1s\tremaining: 25.9s\n",
      "26:\tlearn: 0.1494850\ttotal: 9.44s\tremaining: 25.5s\n",
      "27:\tlearn: 0.1485382\ttotal: 9.79s\tremaining: 25.2s\n",
      "28:\tlearn: 0.1469083\ttotal: 10.1s\tremaining: 24.8s\n",
      "29:\tlearn: 0.1457692\ttotal: 10.5s\tremaining: 24.5s\n",
      "30:\tlearn: 0.1446278\ttotal: 10.8s\tremaining: 24.1s\n",
      "31:\tlearn: 0.1438467\ttotal: 11.2s\tremaining: 23.8s\n",
      "32:\tlearn: 0.1429293\ttotal: 11.5s\tremaining: 23.4s\n",
      "33:\tlearn: 0.1420099\ttotal: 11.9s\tremaining: 23.1s\n",
      "34:\tlearn: 0.1411787\ttotal: 12.2s\tremaining: 22.7s\n",
      "35:\tlearn: 0.1404445\ttotal: 12.5s\tremaining: 22.3s\n",
      "36:\tlearn: 0.1399017\ttotal: 12.9s\tremaining: 21.9s\n",
      "37:\tlearn: 0.1389503\ttotal: 13.2s\tremaining: 21.6s\n",
      "38:\tlearn: 0.1383797\ttotal: 13.6s\tremaining: 21.2s\n",
      "39:\tlearn: 0.1372814\ttotal: 13.9s\tremaining: 20.9s\n",
      "40:\tlearn: 0.1368445\ttotal: 14.3s\tremaining: 20.5s\n",
      "41:\tlearn: 0.1362222\ttotal: 14.6s\tremaining: 20.2s\n",
      "42:\tlearn: 0.1356213\ttotal: 14.9s\tremaining: 19.8s\n",
      "43:\tlearn: 0.1352057\ttotal: 15.3s\tremaining: 19.5s\n",
      "44:\tlearn: 0.1346702\ttotal: 15.6s\tremaining: 19.1s\n",
      "45:\tlearn: 0.1340872\ttotal: 16s\tremaining: 18.7s\n",
      "46:\tlearn: 0.1334798\ttotal: 16.3s\tremaining: 18.4s\n",
      "47:\tlearn: 0.1325973\ttotal: 16.7s\tremaining: 18.1s\n",
      "48:\tlearn: 0.1321959\ttotal: 17s\tremaining: 17.7s\n",
      "49:\tlearn: 0.1316088\ttotal: 17.4s\tremaining: 17.4s\n",
      "50:\tlearn: 0.1310985\ttotal: 17.7s\tremaining: 17s\n",
      "51:\tlearn: 0.1307143\ttotal: 18.1s\tremaining: 16.7s\n",
      "52:\tlearn: 0.1303932\ttotal: 18.4s\tremaining: 16.3s\n",
      "53:\tlearn: 0.1296213\ttotal: 18.8s\tremaining: 16s\n",
      "54:\tlearn: 0.1290311\ttotal: 19.1s\tremaining: 15.6s\n",
      "55:\tlearn: 0.1285015\ttotal: 19.5s\tremaining: 15.3s\n",
      "56:\tlearn: 0.1278747\ttotal: 19.8s\tremaining: 15s\n",
      "57:\tlearn: 0.1275711\ttotal: 20.2s\tremaining: 14.6s\n",
      "58:\tlearn: 0.1271288\ttotal: 20.5s\tremaining: 14.3s\n",
      "59:\tlearn: 0.1268015\ttotal: 20.9s\tremaining: 13.9s\n",
      "60:\tlearn: 0.1265315\ttotal: 21.2s\tremaining: 13.6s\n",
      "61:\tlearn: 0.1261153\ttotal: 21.6s\tremaining: 13.2s\n",
      "62:\tlearn: 0.1256885\ttotal: 21.9s\tremaining: 12.9s\n",
      "63:\tlearn: 0.1254039\ttotal: 22.2s\tremaining: 12.5s\n",
      "64:\tlearn: 0.1249225\ttotal: 22.6s\tremaining: 12.2s\n",
      "65:\tlearn: 0.1245340\ttotal: 22.9s\tremaining: 11.8s\n",
      "66:\tlearn: 0.1242907\ttotal: 23.3s\tremaining: 11.5s\n",
      "67:\tlearn: 0.1237024\ttotal: 23.6s\tremaining: 11.1s\n",
      "68:\tlearn: 0.1233621\ttotal: 24s\tremaining: 10.8s\n",
      "69:\tlearn: 0.1231492\ttotal: 24.3s\tremaining: 10.4s\n",
      "70:\tlearn: 0.1229159\ttotal: 24.7s\tremaining: 10.1s\n",
      "71:\tlearn: 0.1225535\ttotal: 25s\tremaining: 9.72s\n",
      "72:\tlearn: 0.1219308\ttotal: 25.4s\tremaining: 9.38s\n",
      "73:\tlearn: 0.1216956\ttotal: 25.7s\tremaining: 9.03s\n",
      "74:\tlearn: 0.1209206\ttotal: 26.1s\tremaining: 8.68s\n",
      "75:\tlearn: 0.1204521\ttotal: 26.4s\tremaining: 8.34s\n",
      "76:\tlearn: 0.1202340\ttotal: 26.7s\tremaining: 7.99s\n",
      "77:\tlearn: 0.1195487\ttotal: 27.1s\tremaining: 7.64s\n",
      "78:\tlearn: 0.1190216\ttotal: 27.4s\tremaining: 7.29s\n",
      "79:\tlearn: 0.1188048\ttotal: 27.8s\tremaining: 6.94s\n",
      "80:\tlearn: 0.1184400\ttotal: 28.1s\tremaining: 6.59s\n",
      "81:\tlearn: 0.1182123\ttotal: 28.5s\tremaining: 6.25s\n",
      "82:\tlearn: 0.1176945\ttotal: 28.8s\tremaining: 5.9s\n",
      "83:\tlearn: 0.1172324\ttotal: 29.2s\tremaining: 5.55s\n",
      "84:\tlearn: 0.1169062\ttotal: 29.5s\tremaining: 5.21s\n",
      "85:\tlearn: 0.1167006\ttotal: 29.9s\tremaining: 4.86s\n",
      "86:\tlearn: 0.1162465\ttotal: 30.2s\tremaining: 4.51s\n",
      "87:\tlearn: 0.1159041\ttotal: 30.6s\tremaining: 4.17s\n",
      "88:\tlearn: 0.1156889\ttotal: 30.9s\tremaining: 3.82s\n",
      "89:\tlearn: 0.1154957\ttotal: 31.2s\tremaining: 3.47s\n",
      "90:\tlearn: 0.1152938\ttotal: 31.6s\tremaining: 3.12s\n",
      "91:\tlearn: 0.1150846\ttotal: 31.9s\tremaining: 2.77s\n",
      "92:\tlearn: 0.1148710\ttotal: 32.3s\tremaining: 2.43s\n",
      "93:\tlearn: 0.1146849\ttotal: 32.6s\tremaining: 2.08s\n",
      "94:\tlearn: 0.1144825\ttotal: 32.9s\tremaining: 1.73s\n",
      "95:\tlearn: 0.1141193\ttotal: 33.3s\tremaining: 1.39s\n",
      "96:\tlearn: 0.1138951\ttotal: 33.6s\tremaining: 1.04s\n",
      "97:\tlearn: 0.1137139\ttotal: 34s\tremaining: 693ms\n",
      "98:\tlearn: 0.1133424\ttotal: 34.3s\tremaining: 347ms\n",
      "99:\tlearn: 0.1131421\ttotal: 34.7s\tremaining: 0us\n",
      "Learning rate set to 0.5\n",
      "0:\tlearn: 0.3282277\ttotal: 1.44s\tremaining: 2m 22s\n",
      "1:\tlearn: 0.2460732\ttotal: 2.54s\tremaining: 2m 4s\n",
      "2:\tlearn: 0.2185561\ttotal: 3.66s\tremaining: 1m 58s\n",
      "3:\tlearn: 0.2052898\ttotal: 4.76s\tremaining: 1m 54s\n",
      "4:\tlearn: 0.1970450\ttotal: 5.85s\tremaining: 1m 51s\n",
      "5:\tlearn: 0.1909862\ttotal: 6.96s\tremaining: 1m 49s\n",
      "6:\tlearn: 0.1843406\ttotal: 8.06s\tremaining: 1m 47s\n",
      "7:\tlearn: 0.1785639\ttotal: 9.17s\tremaining: 1m 45s\n",
      "8:\tlearn: 0.1748429\ttotal: 10.3s\tremaining: 1m 43s\n",
      "9:\tlearn: 0.1718167\ttotal: 11.4s\tremaining: 1m 42s\n",
      "10:\tlearn: 0.1694994\ttotal: 12.5s\tremaining: 1m 40s\n",
      "11:\tlearn: 0.1658287\ttotal: 13.6s\tremaining: 1m 39s\n",
      "12:\tlearn: 0.1636221\ttotal: 14.7s\tremaining: 1m 38s\n",
      "13:\tlearn: 0.1614135\ttotal: 15.8s\tremaining: 1m 36s\n",
      "14:\tlearn: 0.1591708\ttotal: 16.9s\tremaining: 1m 35s\n",
      "15:\tlearn: 0.1571856\ttotal: 18s\tremaining: 1m 34s\n",
      "16:\tlearn: 0.1555466\ttotal: 19.1s\tremaining: 1m 33s\n",
      "17:\tlearn: 0.1541936\ttotal: 20.2s\tremaining: 1m 32s\n",
      "18:\tlearn: 0.1527262\ttotal: 21.3s\tremaining: 1m 30s\n",
      "19:\tlearn: 0.1511979\ttotal: 22.4s\tremaining: 1m 29s\n",
      "20:\tlearn: 0.1496726\ttotal: 23.5s\tremaining: 1m 28s\n",
      "21:\tlearn: 0.1482639\ttotal: 24.6s\tremaining: 1m 27s\n",
      "22:\tlearn: 0.1467632\ttotal: 25.7s\tremaining: 1m 26s\n",
      "23:\tlearn: 0.1453106\ttotal: 26.8s\tremaining: 1m 24s\n",
      "24:\tlearn: 0.1443416\ttotal: 27.9s\tremaining: 1m 23s\n",
      "25:\tlearn: 0.1430273\ttotal: 29s\tremaining: 1m 22s\n",
      "26:\tlearn: 0.1419377\ttotal: 30.1s\tremaining: 1m 21s\n",
      "27:\tlearn: 0.1408851\ttotal: 31.2s\tremaining: 1m 20s\n",
      "28:\tlearn: 0.1400075\ttotal: 32.3s\tremaining: 1m 19s\n",
      "29:\tlearn: 0.1388760\ttotal: 33.5s\tremaining: 1m 18s\n",
      "30:\tlearn: 0.1377115\ttotal: 34.6s\tremaining: 1m 16s\n",
      "31:\tlearn: 0.1369876\ttotal: 35.7s\tremaining: 1m 15s\n",
      "32:\tlearn: 0.1362505\ttotal: 36.8s\tremaining: 1m 14s\n",
      "33:\tlearn: 0.1356050\ttotal: 37.9s\tremaining: 1m 13s\n",
      "34:\tlearn: 0.1346444\ttotal: 39s\tremaining: 1m 12s\n",
      "35:\tlearn: 0.1335691\ttotal: 40.1s\tremaining: 1m 11s\n",
      "36:\tlearn: 0.1324209\ttotal: 41.2s\tremaining: 1m 10s\n",
      "37:\tlearn: 0.1316608\ttotal: 42.3s\tremaining: 1m 8s\n",
      "38:\tlearn: 0.1310343\ttotal: 43.4s\tremaining: 1m 7s\n",
      "39:\tlearn: 0.1305635\ttotal: 44.5s\tremaining: 1m 6s\n",
      "40:\tlearn: 0.1301045\ttotal: 45.6s\tremaining: 1m 5s\n",
      "41:\tlearn: 0.1294149\ttotal: 46.7s\tremaining: 1m 4s\n",
      "42:\tlearn: 0.1285929\ttotal: 47.8s\tremaining: 1m 3s\n",
      "43:\tlearn: 0.1276638\ttotal: 48.9s\tremaining: 1m 2s\n",
      "44:\tlearn: 0.1266331\ttotal: 50.1s\tremaining: 1m 1s\n",
      "45:\tlearn: 0.1262254\ttotal: 51.2s\tremaining: 1m\n",
      "46:\tlearn: 0.1258253\ttotal: 52.3s\tremaining: 58.9s\n",
      "47:\tlearn: 0.1250571\ttotal: 53.4s\tremaining: 57.8s\n",
      "48:\tlearn: 0.1243067\ttotal: 54.5s\tremaining: 56.7s\n",
      "49:\tlearn: 0.1234662\ttotal: 55.6s\tremaining: 55.6s\n",
      "50:\tlearn: 0.1224906\ttotal: 56.7s\tremaining: 54.5s\n",
      "51:\tlearn: 0.1221738\ttotal: 57.8s\tremaining: 53.4s\n",
      "52:\tlearn: 0.1211695\ttotal: 58.9s\tremaining: 52.2s\n",
      "53:\tlearn: 0.1206068\ttotal: 60s\tremaining: 51.1s\n",
      "54:\tlearn: 0.1199724\ttotal: 1m 1s\tremaining: 50s\n",
      "55:\tlearn: 0.1195320\ttotal: 1m 2s\tremaining: 48.8s\n",
      "56:\tlearn: 0.1188069\ttotal: 1m 3s\tremaining: 47.8s\n",
      "57:\tlearn: 0.1184214\ttotal: 1m 4s\tremaining: 46.6s\n",
      "58:\tlearn: 0.1180308\ttotal: 1m 5s\tremaining: 45.5s\n",
      "59:\tlearn: 0.1174620\ttotal: 1m 6s\tremaining: 44.4s\n",
      "60:\tlearn: 0.1169125\ttotal: 1m 7s\tremaining: 43.3s\n",
      "61:\tlearn: 0.1166184\ttotal: 1m 8s\tremaining: 42.2s\n",
      "62:\tlearn: 0.1162791\ttotal: 1m 9s\tremaining: 41.1s\n",
      "63:\tlearn: 0.1157425\ttotal: 1m 11s\tremaining: 40s\n",
      "64:\tlearn: 0.1154425\ttotal: 1m 12s\tremaining: 38.8s\n",
      "65:\tlearn: 0.1149987\ttotal: 1m 13s\tremaining: 37.7s\n",
      "66:\tlearn: 0.1147172\ttotal: 1m 14s\tremaining: 36.6s\n",
      "67:\tlearn: 0.1144444\ttotal: 1m 15s\tremaining: 35.5s\n",
      "68:\tlearn: 0.1141809\ttotal: 1m 16s\tremaining: 34.4s\n",
      "69:\tlearn: 0.1139340\ttotal: 1m 17s\tremaining: 33.3s\n",
      "70:\tlearn: 0.1135360\ttotal: 1m 18s\tremaining: 32.1s\n",
      "71:\tlearn: 0.1130958\ttotal: 1m 19s\tremaining: 31s\n",
      "72:\tlearn: 0.1128547\ttotal: 1m 20s\tremaining: 29.9s\n",
      "73:\tlearn: 0.1126287\ttotal: 1m 22s\tremaining: 28.8s\n",
      "74:\tlearn: 0.1117058\ttotal: 1m 23s\tremaining: 27.7s\n",
      "75:\tlearn: 0.1114004\ttotal: 1m 24s\tremaining: 26.6s\n",
      "76:\tlearn: 0.1111846\ttotal: 1m 25s\tremaining: 25.5s\n",
      "77:\tlearn: 0.1109729\ttotal: 1m 26s\tremaining: 24.4s\n",
      "78:\tlearn: 0.1107564\ttotal: 1m 27s\tremaining: 23.3s\n",
      "79:\tlearn: 0.1105461\ttotal: 1m 28s\tremaining: 22.1s\n",
      "80:\tlearn: 0.1100493\ttotal: 1m 29s\tremaining: 21s\n",
      "81:\tlearn: 0.1096984\ttotal: 1m 30s\tremaining: 19.9s\n",
      "82:\tlearn: 0.1095075\ttotal: 1m 31s\tremaining: 18.8s\n",
      "83:\tlearn: 0.1089634\ttotal: 1m 33s\tremaining: 17.7s\n",
      "84:\tlearn: 0.1087462\ttotal: 1m 34s\tremaining: 16.6s\n",
      "85:\tlearn: 0.1084809\ttotal: 1m 35s\tremaining: 15.5s\n",
      "86:\tlearn: 0.1079381\ttotal: 1m 36s\tremaining: 14.4s\n",
      "87:\tlearn: 0.1076768\ttotal: 1m 37s\tremaining: 13.3s\n",
      "88:\tlearn: 0.1075037\ttotal: 1m 38s\tremaining: 12.2s\n",
      "89:\tlearn: 0.1073358\ttotal: 1m 39s\tremaining: 11.1s\n",
      "90:\tlearn: 0.1068301\ttotal: 1m 40s\tremaining: 9.97s\n",
      "91:\tlearn: 0.1066457\ttotal: 1m 41s\tremaining: 8.86s\n",
      "92:\tlearn: 0.1064061\ttotal: 1m 43s\tremaining: 7.76s\n",
      "93:\tlearn: 0.1058790\ttotal: 1m 44s\tremaining: 6.65s\n",
      "94:\tlearn: 0.1054489\ttotal: 1m 45s\tremaining: 5.54s\n",
      "95:\tlearn: 0.1050120\ttotal: 1m 46s\tremaining: 4.43s\n",
      "96:\tlearn: 0.1043492\ttotal: 1m 47s\tremaining: 3.33s\n",
      "97:\tlearn: 0.1041809\ttotal: 1m 48s\tremaining: 2.22s\n",
      "98:\tlearn: 0.1039171\ttotal: 1m 49s\tremaining: 1.11s\n",
      "99:\tlearn: 0.1035647\ttotal: 1m 50s\tremaining: 0us\n",
      "0.7472291741151234\n",
      "8\n",
      "100\n"
     ]
    }
   ],
   "source": [
    "best_result = 0\n",
    "best_depth = 0\n",
    "best_iterations = 0\n",
    "for depth in range(2, 10, 2):\n",
    "    for iterations_i in range(100, 200, 100):\n",
    "        model_cat = CatBoostClassifier(\n",
    "                                      random_state=12345,\n",
    "                                      task_type='CPU',\n",
    "                                      iterations=iterations_i,\n",
    "                                      depth = depth,\n",
    "                                      od_type='Iter'\n",
    "                                      )\n",
    "        model_cat.fit(tf_idf_train, target_train)\n",
    "        predictions = model_cat.predict(tf_idf_test)\n",
    "        f1 = f1_score(test_target, predictions)\n",
    "        if best_result < f1:\n",
    "            best_result = f1\n",
    "            best_depth = depth\n",
    "            best_iterations = iterations_i\n",
    "print(best_result)\n",
    "print(best_depth)\n",
    "print(best_iterations)"
   ]
  },
  {
   "cell_type": "code",
   "execution_count": 21,
   "metadata": {},
   "outputs": [
    {
     "data": {
      "text/plain": [
       "0.7621908127208481"
      ]
     },
     "execution_count": 21,
     "metadata": {},
     "output_type": "execute_result"
    }
   ],
   "source": [
    "model = CatBoostClassifier(\n",
    "    random_state=12345,\n",
    "    task_type='CPU',\n",
    "    iterations=100,\n",
    "    depth = 8,\n",
    "    od_type='Iter'                                   \n",
    ")\n",
    "predictions = model_cat.predict(tf_idf_valid)\n",
    "f1_score(target_valid, predictions)\n"
   ]
  },
  {
   "cell_type": "markdown",
   "metadata": {},
   "source": [
    "**CatBoostRegressor с показателями:**\n",
    "\n",
    "***На тестовой выборке F1 = 0.74***\n",
    "\n",
    "***На валидационной выборке F1 = 0.76***"
   ]
  },
  {
   "cell_type": "markdown",
   "metadata": {},
   "source": [
    "## Выводы"
   ]
  },
  {
   "cell_type": "markdown",
   "metadata": {},
   "source": [
    "**Были проведенные исследования данных и были выполненны следующие действия:**\n",
    "\n",
    "**Данные были загруженны**\n",
    "\n",
    "**Так же данные были лемматизированны**\n",
    "\n",
    "**Данные были подготовленны к обучению моделий, а так же из них были удалены стоп-слова**\n",
    "\n",
    "**Были обучены три модели и они показали следующий результат:**\n",
    "\n",
    "***Модель логической регрессии - F1 = 0.7791***\n",
    "\n",
    "***Модель решающего древа - F1 = 0.52***\n",
    "\n",
    "***Модель CatBoostClassifier:***\n",
    "\n",
    "***На тестовой выборке F1 = 0.74***\n",
    "\n",
    "***На валидационной выборке F1 = 0.76***\n",
    "\n",
    "**Модель логической регрессии показала себя лучшей среди тестируемых c F1 = 0.77**"
   ]
  }
 ],
 "metadata": {
  "ExecuteTimeLog": [
   {
    "duration": 997,
    "start_time": "2023-07-09T16:17:28.834Z"
   }
  ],
  "kernelspec": {
   "display_name": "Python 3 (ipykernel)",
   "language": "python",
   "name": "python3"
  },
  "language_info": {
   "codemirror_mode": {
    "name": "ipython",
    "version": 3
   },
   "file_extension": ".py",
   "mimetype": "text/x-python",
   "name": "python",
   "nbconvert_exporter": "python",
   "pygments_lexer": "ipython3",
   "version": "3.11.6"
  },
  "toc": {
   "base_numbering": 1,
   "nav_menu": {},
   "number_sections": true,
   "sideBar": true,
   "skip_h1_title": true,
   "title_cell": "Table of Contents",
   "title_sidebar": "Contents",
   "toc_cell": false,
   "toc_position": {},
   "toc_section_display": true,
   "toc_window_display": false
  }
 },
 "nbformat": 4,
 "nbformat_minor": 2
}
