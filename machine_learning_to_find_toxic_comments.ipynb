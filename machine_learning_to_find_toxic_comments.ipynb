{
 "cells": [
  {
   "cell_type": "markdown",
   "metadata": {},
   "source": [
    "<h1>Содержание<span class=\"tocSkip\"></span></h1>\n",
    "<div class=\"toc\"><ul class=\"toc-item\"><li><span><a href=\"#Подготовка\" data-toc-modified-id=\"Подготовка-1\"><span class=\"toc-item-num\">1&nbsp;&nbsp;</span>Подготовка</a></span></li><li><span><a href=\"#Обучение\" data-toc-modified-id=\"Обучение-2\"><span class=\"toc-item-num\">2&nbsp;&nbsp;</span>Обучение</a></span><ul class=\"toc-item\"><li><span><a href=\"#Модель-логической-регрессии\" data-toc-modified-id=\"Модель-логической-регрессии-2.1\"><span class=\"toc-item-num\">2.1&nbsp;&nbsp;</span>Модель логической регрессии</a></span></li><li><span><a href=\"#Модель-решающего-древа\" data-toc-modified-id=\"Модель-решающего-древа-2.2\"><span class=\"toc-item-num\">2.2&nbsp;&nbsp;</span>Модель решающего древа</a></span></li><li><span><a href=\"#Модель-CatBoostClassifier\" data-toc-modified-id=\"Модель-CatBoostClassifier-2.3\"><span class=\"toc-item-num\">2.3&nbsp;&nbsp;</span>Модель CatBoostClassifier</a></span></li></ul></li><li><span><a href=\"#Выводы\" data-toc-modified-id=\"Выводы-3\"><span class=\"toc-item-num\">3&nbsp;&nbsp;</span>Выводы</a></span></li><li><span><a href=\"#Чек-лист-проверки\" data-toc-modified-id=\"Чек-лист-проверки-4\"><span class=\"toc-item-num\">4&nbsp;&nbsp;</span>Чек-лист проверки</a></span></li></ul></div>"
   ]
  },
  {
   "cell_type": "markdown",
   "metadata": {},
   "source": [
    "# Проект для «Викишоп»"
   ]
  },
  {
   "cell_type": "markdown",
   "metadata": {},
   "source": [
    "Интернет-магазин запускает новый сервис. Теперь пользователи могут редактировать и дополнять описания товаров, как в вики-сообществах. То есть клиенты предлагают свои правки и комментируют изменения других. Магазину нужен инструмент, который будет искать токсичные комментарии и отправлять их на модерацию. \n",
    "\n",
    "Обучите модель классифицировать комментарии на позитивные и негативные. В вашем распоряжении набор данных с разметкой о токсичности правок."
   ]
  },
  {
   "cell_type": "markdown",
   "metadata": {},
   "source": [
    "## Подготовка"
   ]
  },
  {
   "cell_type": "markdown",
   "metadata": {},
   "source": [
    "### Имортируем все необходимые инструмены"
   ]
  },
  {
   "cell_type": "code",
   "execution_count": 1,
   "metadata": {},
   "outputs": [],
   "source": [
    "import matplotlib.pyplot as plt\n",
    "import numpy as np\n",
    "import pandas as pd\n",
    "import re\n",
    "import swifter\n",
    "import spacy\n",
    "from sklearn.pipeline import Pipeline\n",
    "from tqdm.notebook import tqdm\n",
    "tqdm.pandas()\n",
    "from pymystem3 import Mystem\n",
    "from nltk.tokenize import word_tokenize\n",
    "import nltk\n",
    "from nltk.corpus import stopwords as nltk_stopwords\n",
    "from sklearn.feature_extraction.text import TfidfVectorizer\n",
    "from sklearn.model_selection import (\n",
    "    train_test_split,\n",
    "    GridSearchCV\n",
    ")\n",
    "from sklearn.linear_model import LogisticRegression\n",
    "from sklearn.tree import DecisionTreeClassifier\n",
    "from sklearn.feature_extraction.text import CountVectorizer\n",
    "from sklearn.feature_extraction.text import TfidfTransformer\n",
    "from nltk.stem import WordNetLemmatizer\n",
    "from nltk.corpus import wordnet\n",
    "from catboost import CatBoostClassifier\n",
    "from sklearn.metrics import f1_score\n",
    "import warnings\n",
    "warnings.filterwarnings('ignore')"
   ]
  },
  {
   "cell_type": "markdown",
   "metadata": {},
   "source": [
    "### Загрузим данные"
   ]
  },
  {
   "cell_type": "code",
   "execution_count": 2,
   "metadata": {},
   "outputs": [],
   "source": [
    "try:\n",
    "    data = pd.read_csv(\"toxic_comments.csv\", index_col=0)\n",
    "except:\n",
    "    data = pd.read_csv('D:\\\\toxic_comments.csv', index_col=0)"
   ]
  },
  {
   "cell_type": "markdown",
   "metadata": {},
   "source": [
    "### Откроем первые 5 строк каждой таблицы"
   ]
  },
  {
   "cell_type": "code",
   "execution_count": 3,
   "metadata": {},
   "outputs": [
    {
     "data": {
      "text/html": [
       "<div>\n",
       "<style scoped>\n",
       "    .dataframe tbody tr th:only-of-type {\n",
       "        vertical-align: middle;\n",
       "    }\n",
       "\n",
       "    .dataframe tbody tr th {\n",
       "        vertical-align: top;\n",
       "    }\n",
       "\n",
       "    .dataframe thead th {\n",
       "        text-align: right;\n",
       "    }\n",
       "</style>\n",
       "<table border=\"1\" class=\"dataframe\">\n",
       "  <thead>\n",
       "    <tr style=\"text-align: right;\">\n",
       "      <th></th>\n",
       "      <th>text</th>\n",
       "      <th>toxic</th>\n",
       "    </tr>\n",
       "  </thead>\n",
       "  <tbody>\n",
       "    <tr>\n",
       "      <th>158117</th>\n",
       "      <td>No, it's not a delayed reaction\\n\\nI just happ...</td>\n",
       "      <td>0</td>\n",
       "    </tr>\n",
       "    <tr>\n",
       "      <th>56222</th>\n",
       "      <td>\"\\n\\n Category:Atlantic Records  \\n\\nHow the h...</td>\n",
       "      <td>0</td>\n",
       "    </tr>\n",
       "    <tr>\n",
       "      <th>78947</th>\n",
       "      <td>Belarus flag \\n\\nSorry aout that. I was in the...</td>\n",
       "      <td>0</td>\n",
       "    </tr>\n",
       "    <tr>\n",
       "      <th>86069</th>\n",
       "      <td>Hi there from PORTUGAL,\\n\\nPlease leave just A...</td>\n",
       "      <td>0</td>\n",
       "    </tr>\n",
       "    <tr>\n",
       "      <th>20587</th>\n",
       "      <td>\"\\n\\nOH, OH, NICE ONE, REVERTING MY EDITS! CHR...</td>\n",
       "      <td>1</td>\n",
       "    </tr>\n",
       "  </tbody>\n",
       "</table>\n",
       "</div>"
      ],
      "text/plain": [
       "                                                     text  toxic\n",
       "158117  No, it's not a delayed reaction\\n\\nI just happ...      0\n",
       "56222   \"\\n\\n Category:Atlantic Records  \\n\\nHow the h...      0\n",
       "78947   Belarus flag \\n\\nSorry aout that. I was in the...      0\n",
       "86069   Hi there from PORTUGAL,\\n\\nPlease leave just A...      0\n",
       "20587   \"\\n\\nOH, OH, NICE ONE, REVERTING MY EDITS! CHR...      1"
      ]
     },
     "execution_count": 3,
     "metadata": {},
     "output_type": "execute_result"
    }
   ],
   "source": [
    "data.sample(5)"
   ]
  },
  {
   "cell_type": "markdown",
   "metadata": {},
   "source": [
    "### Посмотрим информацию о данных"
   ]
  },
  {
   "cell_type": "code",
   "execution_count": 4,
   "metadata": {},
   "outputs": [
    {
     "name": "stdout",
     "output_type": "stream",
     "text": [
      "<class 'pandas.core.frame.DataFrame'>\n",
      "Int64Index: 159292 entries, 0 to 159450\n",
      "Data columns (total 2 columns):\n",
      " #   Column  Non-Null Count   Dtype \n",
      "---  ------  --------------   ----- \n",
      " 0   text    159292 non-null  object\n",
      " 1   toxic   159292 non-null  int64 \n",
      "dtypes: int64(1), object(1)\n",
      "memory usage: 3.6+ MB\n"
     ]
    }
   ],
   "source": [
    "data.info()"
   ]
  },
  {
   "cell_type": "markdown",
   "metadata": {},
   "source": [
    "### Посмотрим баланс у целевого признака"
   ]
  },
  {
   "cell_type": "code",
   "execution_count": 5,
   "metadata": {
    "scrolled": true
   },
   "outputs": [
    {
     "data": {
      "text/plain": [
       "0    143106\n",
       "1     16186\n",
       "Name: toxic, dtype: int64"
      ]
     },
     "execution_count": 5,
     "metadata": {},
     "output_type": "execute_result"
    }
   ],
   "source": [
    "data['toxic'].value_counts()"
   ]
  },
  {
   "cell_type": "markdown",
   "metadata": {},
   "source": [
    "**Наблюдаем дисбаланс**"
   ]
  },
  {
   "cell_type": "markdown",
   "metadata": {},
   "source": [
    "### Приведём текст к нижнему регистру"
   ]
  },
  {
   "cell_type": "code",
   "execution_count": 6,
   "metadata": {},
   "outputs": [],
   "source": [
    "data['text'] = data['text'].str.lower()"
   ]
  },
  {
   "cell_type": "markdown",
   "metadata": {},
   "source": [
    "### Лемматизируем текст в колонке с признаком"
   ]
  },
  {
   "cell_type": "code",
   "execution_count": 7,
   "metadata": {},
   "outputs": [],
   "source": [
    "nlp = spacy.load(\"en_core_web_sm\")"
   ]
  },
  {
   "cell_type": "code",
   "execution_count": 8,
   "metadata": {},
   "outputs": [],
   "source": [
    "def clear_text(text):\n",
    "    lists = re.sub(r'[^a-zA-Z ]', ' ', text.lower())\n",
    "    words = lists.split()\n",
    "    words = \" \".join(words) \n",
    "    return words"
   ]
  },
  {
   "cell_type": "code",
   "execution_count": 9,
   "metadata": {},
   "outputs": [],
   "source": [
    "def lemma_clear(text): \n",
    "      \n",
    "    lemm = nlp(text) \n",
    "    lemm = \" \".join([token.lemma_ for token in lemm])  \n",
    "    return \" \".join(lemm.split())"
   ]
  },
  {
   "cell_type": "code",
   "execution_count": 10,
   "metadata": {},
   "outputs": [],
   "source": [
    "data['lemm_text'] = data['text'].apply(clear_text)"
   ]
  },
  {
   "cell_type": "code",
   "execution_count": 11,
   "metadata": {},
   "outputs": [],
   "source": [
    "data['lemm_text'] = data['lemm_text'].apply(lemma_clear)"
   ]
  },
  {
   "cell_type": "code",
   "execution_count": 12,
   "metadata": {},
   "outputs": [
    {
     "data": {
      "text/html": [
       "<div>\n",
       "<style scoped>\n",
       "    .dataframe tbody tr th:only-of-type {\n",
       "        vertical-align: middle;\n",
       "    }\n",
       "\n",
       "    .dataframe tbody tr th {\n",
       "        vertical-align: top;\n",
       "    }\n",
       "\n",
       "    .dataframe thead th {\n",
       "        text-align: right;\n",
       "    }\n",
       "</style>\n",
       "<table border=\"1\" class=\"dataframe\">\n",
       "  <thead>\n",
       "    <tr style=\"text-align: right;\">\n",
       "      <th></th>\n",
       "      <th>text</th>\n",
       "      <th>toxic</th>\n",
       "      <th>lemm_text</th>\n",
       "    </tr>\n",
       "  </thead>\n",
       "  <tbody>\n",
       "    <tr>\n",
       "      <th>0</th>\n",
       "      <td>explanation\\nwhy the edits made under my usern...</td>\n",
       "      <td>0</td>\n",
       "      <td>explanation why the edit make under my usernam...</td>\n",
       "    </tr>\n",
       "    <tr>\n",
       "      <th>1</th>\n",
       "      <td>d'aww! he matches this background colour i'm s...</td>\n",
       "      <td>0</td>\n",
       "      <td>d aww he match this background colour I m seem...</td>\n",
       "    </tr>\n",
       "    <tr>\n",
       "      <th>2</th>\n",
       "      <td>hey man, i'm really not trying to edit war. it...</td>\n",
       "      <td>0</td>\n",
       "      <td>hey man I m really not try to edit war it s ju...</td>\n",
       "    </tr>\n",
       "    <tr>\n",
       "      <th>3</th>\n",
       "      <td>\"\\nmore\\ni can't make any real suggestions on ...</td>\n",
       "      <td>0</td>\n",
       "      <td>more I can t make any real suggestion on impro...</td>\n",
       "    </tr>\n",
       "    <tr>\n",
       "      <th>4</th>\n",
       "      <td>you, sir, are my hero. any chance you remember...</td>\n",
       "      <td>0</td>\n",
       "      <td>you sir be my hero any chance you remember wha...</td>\n",
       "    </tr>\n",
       "  </tbody>\n",
       "</table>\n",
       "</div>"
      ],
      "text/plain": [
       "                                                text  toxic  \\\n",
       "0  explanation\\nwhy the edits made under my usern...      0   \n",
       "1  d'aww! he matches this background colour i'm s...      0   \n",
       "2  hey man, i'm really not trying to edit war. it...      0   \n",
       "3  \"\\nmore\\ni can't make any real suggestions on ...      0   \n",
       "4  you, sir, are my hero. any chance you remember...      0   \n",
       "\n",
       "                                           lemm_text  \n",
       "0  explanation why the edit make under my usernam...  \n",
       "1  d aww he match this background colour I m seem...  \n",
       "2  hey man I m really not try to edit war it s ju...  \n",
       "3  more I can t make any real suggestion on impro...  \n",
       "4  you sir be my hero any chance you remember wha...  "
      ]
     },
     "execution_count": 12,
     "metadata": {},
     "output_type": "execute_result"
    }
   ],
   "source": [
    "data.head()"
   ]
  },
  {
   "cell_type": "markdown",
   "metadata": {},
   "source": [
    "### Подготовим данные к обучению моделей"
   ]
  },
  {
   "cell_type": "code",
   "execution_count": 13,
   "metadata": {},
   "outputs": [],
   "source": [
    "target = data['toxic']\n",
    "features = data['lemm_text']"
   ]
  },
  {
   "cell_type": "code",
   "execution_count": 14,
   "metadata": {},
   "outputs": [
    {
     "data": {
      "text/plain": [
       "((95575,), (31858,), (31859,))"
      ]
     },
     "execution_count": 14,
     "metadata": {},
     "output_type": "execute_result"
    }
   ],
   "source": [
    "features_train, features_test, target_train, test_target = train_test_split(\n",
    "    features, target, test_size=0.4, random_state=12345, stratify=target)\n",
    "\n",
    "features_valid, features_test, target_valid, test_target = train_test_split(\n",
    "    features_test, test_target, test_size=0.50, random_state=12345, stratify=test_target)\n",
    "\n",
    "features_train.shape, features_valid.shape, features_test.shape"
   ]
  },
  {
   "cell_type": "markdown",
   "metadata": {},
   "source": [
    "### Уберём в признаках стоп-слова"
   ]
  },
  {
   "cell_type": "code",
   "execution_count": 15,
   "metadata": {},
   "outputs": [
    {
     "name": "stderr",
     "output_type": "stream",
     "text": [
      "[nltk_data] Downloading package stopwords to\n",
      "[nltk_data]     C:\\Users\\piros\\AppData\\Roaming\\nltk_data...\n",
      "[nltk_data]   Package stopwords is already up-to-date!\n"
     ]
    }
   ],
   "source": [
    "nltk.download('stopwords')\n",
    "stopwords = set(nltk_stopwords.words('english'))"
   ]
  },
  {
   "cell_type": "code",
   "execution_count": 16,
   "metadata": {},
   "outputs": [],
   "source": [
    "count_tf_idf = TfidfVectorizer(stop_words=list(stopwords))"
   ]
  },
  {
   "cell_type": "code",
   "execution_count": 17,
   "metadata": {},
   "outputs": [],
   "source": [
    "tf_idf_train = count_tf_idf.fit_transform(features_train)\n",
    "tf_idf_test = count_tf_idf.transform(features_test)\n",
    "tf_idf_valid = count_tf_idf.transform(features_valid)"
   ]
  },
  {
   "cell_type": "markdown",
   "metadata": {},
   "source": [
    "## Обучение"
   ]
  },
  {
   "cell_type": "markdown",
   "metadata": {},
   "source": [
    "### Модель логической регрессии"
   ]
  },
  {
   "cell_type": "code",
   "execution_count": 18,
   "metadata": {},
   "outputs": [
    {
     "data": {
      "text/plain": [
       "0.7781793150920667"
      ]
     },
     "execution_count": 18,
     "metadata": {},
     "output_type": "execute_result"
    }
   ],
   "source": [
    "scoring = 'f1'\n",
    "CV = 4\n",
    "\n",
    "pipeline_logr = Pipeline([\n",
    "    ('vectorizer', TfidfVectorizer()),\n",
    "    ('classifier', LogisticRegression(random_state=12345))\n",
    "])\n",
    "\n",
    "params = {\n",
    "    'vectorizer__ngram_range': [(1,1), (1,2)],\n",
    "    'classifier__penalty': ['l1', 'l2'],\n",
    "    'classifier__C': [0.01, 0.1, 1, 10, 100]\n",
    "}\n",
    "\n",
    "grid = GridSearchCV(pipeline_logr, cv=CV, n_jobs=-1, param_grid=params ,scoring=scoring)\n",
    "grid.fit(features_train, target_train)\n",
    "grid.score(features_test, test_target)"
   ]
  },
  {
   "cell_type": "markdown",
   "metadata": {},
   "source": [
    "**Модель логической регрессии показала лучший результат после использование твоих советов, спасибо:**\n",
    "\n",
    "***На тестовой выборке 0.77***"
   ]
  },
  {
   "cell_type": "markdown",
   "metadata": {},
   "source": [
    "### Модель решающего древа"
   ]
  },
  {
   "cell_type": "code",
   "execution_count": 19,
   "metadata": {},
   "outputs": [
    {
     "data": {
      "text/plain": [
       "0.5254382214621633"
      ]
     },
     "execution_count": 19,
     "metadata": {},
     "output_type": "execute_result"
    }
   ],
   "source": [
    "model_tree = DecisionTreeClassifier(\n",
    "            random_state=12345,\n",
    "            max_depth=8,\n",
    "            min_samples_split=10,\n",
    "            min_samples_leaf=10,\n",
    "            class_weight='balanced'\n",
    "            )\n",
    "model_tree.fit(tf_idf_train, target_train)\n",
    "predictions = model_tree.predict(tf_idf_test)\n",
    "f1_score(test_target, predictions)"
   ]
  },
  {
   "cell_type": "markdown",
   "metadata": {},
   "source": [
    "**К сожалению решающее древо показало плохой результат на тестовой выборке 0.52**"
   ]
  },
  {
   "cell_type": "markdown",
   "metadata": {},
   "source": [
    "### Модель CatBoostClassifier"
   ]
  },
  {
   "cell_type": "code",
   "execution_count": 20,
   "metadata": {},
   "outputs": [
    {
     "name": "stdout",
     "output_type": "stream",
     "text": [
      "Learning rate set to 0.5\n",
      "0:\tlearn: 0.3561758\ttotal: 260ms\tremaining: 25.7s\n",
      "1:\tlearn: 0.2811307\ttotal: 352ms\tremaining: 17.2s\n",
      "2:\tlearn: 0.2583851\ttotal: 441ms\tremaining: 14.3s\n",
      "3:\tlearn: 0.2467951\ttotal: 527ms\tremaining: 12.6s\n",
      "4:\tlearn: 0.2388936\ttotal: 620ms\tremaining: 11.8s\n",
      "5:\tlearn: 0.2331570\ttotal: 706ms\tremaining: 11.1s\n",
      "6:\tlearn: 0.2290555\ttotal: 798ms\tremaining: 10.6s\n",
      "7:\tlearn: 0.2258873\ttotal: 887ms\tremaining: 10.2s\n",
      "8:\tlearn: 0.2198779\ttotal: 978ms\tremaining: 9.89s\n",
      "9:\tlearn: 0.2165926\ttotal: 1.06s\tremaining: 9.59s\n",
      "10:\tlearn: 0.2133789\ttotal: 1.16s\tremaining: 9.36s\n",
      "11:\tlearn: 0.2104942\ttotal: 1.24s\tremaining: 9.12s\n",
      "12:\tlearn: 0.2077081\ttotal: 1.33s\tremaining: 8.91s\n",
      "13:\tlearn: 0.2043322\ttotal: 1.42s\tremaining: 8.72s\n",
      "14:\tlearn: 0.2025165\ttotal: 1.51s\tremaining: 8.55s\n",
      "15:\tlearn: 0.2005247\ttotal: 1.6s\tremaining: 8.38s\n",
      "16:\tlearn: 0.1986823\ttotal: 1.69s\tremaining: 8.24s\n",
      "17:\tlearn: 0.1953375\ttotal: 1.78s\tremaining: 8.12s\n",
      "18:\tlearn: 0.1938129\ttotal: 1.87s\tremaining: 7.98s\n",
      "19:\tlearn: 0.1919813\ttotal: 1.96s\tremaining: 7.84s\n",
      "20:\tlearn: 0.1906338\ttotal: 2.05s\tremaining: 7.72s\n",
      "21:\tlearn: 0.1894022\ttotal: 2.14s\tremaining: 7.59s\n",
      "22:\tlearn: 0.1880753\ttotal: 2.23s\tremaining: 7.47s\n",
      "23:\tlearn: 0.1868166\ttotal: 2.32s\tremaining: 7.35s\n",
      "24:\tlearn: 0.1850567\ttotal: 2.41s\tremaining: 7.24s\n",
      "25:\tlearn: 0.1838997\ttotal: 2.5s\tremaining: 7.11s\n",
      "26:\tlearn: 0.1825105\ttotal: 2.59s\tremaining: 7s\n",
      "27:\tlearn: 0.1803258\ttotal: 2.67s\tremaining: 6.88s\n",
      "28:\tlearn: 0.1792258\ttotal: 2.76s\tremaining: 6.76s\n",
      "29:\tlearn: 0.1782456\ttotal: 2.85s\tremaining: 6.65s\n",
      "30:\tlearn: 0.1774679\ttotal: 2.94s\tremaining: 6.54s\n",
      "31:\tlearn: 0.1762530\ttotal: 3.03s\tremaining: 6.44s\n",
      "32:\tlearn: 0.1754042\ttotal: 3.12s\tremaining: 6.33s\n",
      "33:\tlearn: 0.1745528\ttotal: 3.2s\tremaining: 6.22s\n",
      "34:\tlearn: 0.1736852\ttotal: 3.29s\tremaining: 6.12s\n",
      "35:\tlearn: 0.1730271\ttotal: 3.39s\tremaining: 6.03s\n",
      "36:\tlearn: 0.1718126\ttotal: 3.48s\tremaining: 5.92s\n",
      "37:\tlearn: 0.1710307\ttotal: 3.56s\tremaining: 5.81s\n",
      "38:\tlearn: 0.1702187\ttotal: 3.65s\tremaining: 5.71s\n",
      "39:\tlearn: 0.1696763\ttotal: 3.74s\tremaining: 5.61s\n",
      "40:\tlearn: 0.1683577\ttotal: 3.83s\tremaining: 5.51s\n",
      "41:\tlearn: 0.1677321\ttotal: 3.91s\tremaining: 5.4s\n",
      "42:\tlearn: 0.1671672\ttotal: 4s\tremaining: 5.3s\n",
      "43:\tlearn: 0.1665918\ttotal: 4.09s\tremaining: 5.21s\n",
      "44:\tlearn: 0.1660228\ttotal: 4.18s\tremaining: 5.1s\n",
      "45:\tlearn: 0.1648117\ttotal: 4.26s\tremaining: 5s\n",
      "46:\tlearn: 0.1642430\ttotal: 4.35s\tremaining: 4.91s\n",
      "47:\tlearn: 0.1637198\ttotal: 4.44s\tremaining: 4.81s\n",
      "48:\tlearn: 0.1630640\ttotal: 4.52s\tremaining: 4.71s\n",
      "49:\tlearn: 0.1626436\ttotal: 4.61s\tremaining: 4.61s\n",
      "50:\tlearn: 0.1621242\ttotal: 4.7s\tremaining: 4.51s\n",
      "51:\tlearn: 0.1612633\ttotal: 4.78s\tremaining: 4.42s\n",
      "52:\tlearn: 0.1608195\ttotal: 4.87s\tremaining: 4.32s\n",
      "53:\tlearn: 0.1603850\ttotal: 4.96s\tremaining: 4.23s\n",
      "54:\tlearn: 0.1600090\ttotal: 5.05s\tremaining: 4.13s\n",
      "55:\tlearn: 0.1595155\ttotal: 5.13s\tremaining: 4.04s\n",
      "56:\tlearn: 0.1590202\ttotal: 5.22s\tremaining: 3.94s\n",
      "57:\tlearn: 0.1584610\ttotal: 5.31s\tremaining: 3.84s\n",
      "58:\tlearn: 0.1581122\ttotal: 5.4s\tremaining: 3.75s\n",
      "59:\tlearn: 0.1572240\ttotal: 5.48s\tremaining: 3.65s\n",
      "60:\tlearn: 0.1566102\ttotal: 5.57s\tremaining: 3.56s\n",
      "61:\tlearn: 0.1561228\ttotal: 5.66s\tremaining: 3.47s\n",
      "62:\tlearn: 0.1555724\ttotal: 5.75s\tremaining: 3.37s\n",
      "63:\tlearn: 0.1552715\ttotal: 5.83s\tremaining: 3.28s\n",
      "64:\tlearn: 0.1549176\ttotal: 5.92s\tremaining: 3.19s\n",
      "65:\tlearn: 0.1544369\ttotal: 6.01s\tremaining: 3.09s\n",
      "66:\tlearn: 0.1540779\ttotal: 6.11s\tremaining: 3.01s\n",
      "67:\tlearn: 0.1536975\ttotal: 6.19s\tremaining: 2.91s\n",
      "68:\tlearn: 0.1531455\ttotal: 6.28s\tremaining: 2.82s\n",
      "69:\tlearn: 0.1527740\ttotal: 6.37s\tremaining: 2.73s\n",
      "70:\tlearn: 0.1523518\ttotal: 6.46s\tremaining: 2.64s\n",
      "71:\tlearn: 0.1518989\ttotal: 6.55s\tremaining: 2.55s\n",
      "72:\tlearn: 0.1515563\ttotal: 6.63s\tremaining: 2.45s\n",
      "73:\tlearn: 0.1512385\ttotal: 6.72s\tremaining: 2.36s\n",
      "74:\tlearn: 0.1506710\ttotal: 6.81s\tremaining: 2.27s\n",
      "75:\tlearn: 0.1502373\ttotal: 6.89s\tremaining: 2.18s\n",
      "76:\tlearn: 0.1499315\ttotal: 6.98s\tremaining: 2.08s\n",
      "77:\tlearn: 0.1497054\ttotal: 7.08s\tremaining: 2s\n",
      "78:\tlearn: 0.1494893\ttotal: 7.17s\tremaining: 1.91s\n",
      "79:\tlearn: 0.1491898\ttotal: 7.25s\tremaining: 1.81s\n",
      "80:\tlearn: 0.1487661\ttotal: 7.34s\tremaining: 1.72s\n",
      "81:\tlearn: 0.1485023\ttotal: 7.43s\tremaining: 1.63s\n",
      "82:\tlearn: 0.1480911\ttotal: 7.51s\tremaining: 1.54s\n",
      "83:\tlearn: 0.1477338\ttotal: 7.61s\tremaining: 1.45s\n",
      "84:\tlearn: 0.1474473\ttotal: 7.69s\tremaining: 1.36s\n",
      "85:\tlearn: 0.1471680\ttotal: 7.78s\tremaining: 1.27s\n",
      "86:\tlearn: 0.1469230\ttotal: 7.87s\tremaining: 1.18s\n",
      "87:\tlearn: 0.1466481\ttotal: 7.95s\tremaining: 1.08s\n",
      "88:\tlearn: 0.1463604\ttotal: 8.04s\tremaining: 994ms\n",
      "89:\tlearn: 0.1460906\ttotal: 8.14s\tremaining: 904ms\n",
      "90:\tlearn: 0.1456927\ttotal: 8.22s\tremaining: 813ms\n",
      "91:\tlearn: 0.1455076\ttotal: 8.31s\tremaining: 723ms\n",
      "92:\tlearn: 0.1449482\ttotal: 8.4s\tremaining: 632ms\n",
      "93:\tlearn: 0.1447599\ttotal: 8.49s\tremaining: 542ms\n",
      "94:\tlearn: 0.1445212\ttotal: 8.57s\tremaining: 451ms\n",
      "95:\tlearn: 0.1439790\ttotal: 8.66s\tremaining: 361ms\n",
      "96:\tlearn: 0.1437474\ttotal: 8.75s\tremaining: 271ms\n",
      "97:\tlearn: 0.1434903\ttotal: 8.84s\tremaining: 180ms\n",
      "98:\tlearn: 0.1432800\ttotal: 8.93s\tremaining: 90.2ms\n",
      "99:\tlearn: 0.1429079\ttotal: 9.01s\tremaining: 0us\n",
      "Learning rate set to 0.5\n",
      "0:\tlearn: 0.3434284\ttotal: 200ms\tremaining: 19.8s\n",
      "1:\tlearn: 0.2650460\ttotal: 380ms\tremaining: 18.6s\n",
      "2:\tlearn: 0.2391882\ttotal: 553ms\tremaining: 17.9s\n",
      "3:\tlearn: 0.2280913\ttotal: 725ms\tremaining: 17.4s\n",
      "4:\tlearn: 0.2177753\ttotal: 906ms\tremaining: 17.2s\n",
      "5:\tlearn: 0.2120526\ttotal: 1.08s\tremaining: 16.9s\n",
      "6:\tlearn: 0.2057873\ttotal: 1.25s\tremaining: 16.6s\n",
      "7:\tlearn: 0.2013825\ttotal: 1.43s\tremaining: 16.4s\n",
      "8:\tlearn: 0.1981878\ttotal: 1.59s\tremaining: 16.1s\n",
      "9:\tlearn: 0.1925649\ttotal: 1.78s\tremaining: 16s\n",
      "10:\tlearn: 0.1897998\ttotal: 1.95s\tremaining: 15.8s\n",
      "11:\tlearn: 0.1874903\ttotal: 2.12s\tremaining: 15.6s\n",
      "12:\tlearn: 0.1853651\ttotal: 2.29s\tremaining: 15.3s\n",
      "13:\tlearn: 0.1828444\ttotal: 2.46s\tremaining: 15.1s\n",
      "14:\tlearn: 0.1797854\ttotal: 2.63s\tremaining: 14.9s\n",
      "15:\tlearn: 0.1778095\ttotal: 2.79s\tremaining: 14.7s\n",
      "16:\tlearn: 0.1763901\ttotal: 2.97s\tremaining: 14.5s\n",
      "17:\tlearn: 0.1744786\ttotal: 3.13s\tremaining: 14.3s\n",
      "18:\tlearn: 0.1728621\ttotal: 3.3s\tremaining: 14.1s\n",
      "19:\tlearn: 0.1715221\ttotal: 3.47s\tremaining: 13.9s\n",
      "20:\tlearn: 0.1703636\ttotal: 3.64s\tremaining: 13.7s\n",
      "21:\tlearn: 0.1686976\ttotal: 3.82s\tremaining: 13.6s\n",
      "22:\tlearn: 0.1675660\ttotal: 3.99s\tremaining: 13.4s\n",
      "23:\tlearn: 0.1664401\ttotal: 4.17s\tremaining: 13.2s\n",
      "24:\tlearn: 0.1642547\ttotal: 4.35s\tremaining: 13s\n",
      "25:\tlearn: 0.1630675\ttotal: 4.52s\tremaining: 12.9s\n",
      "26:\tlearn: 0.1616559\ttotal: 4.69s\tremaining: 12.7s\n",
      "27:\tlearn: 0.1605841\ttotal: 4.86s\tremaining: 12.5s\n",
      "28:\tlearn: 0.1596473\ttotal: 5.03s\tremaining: 12.3s\n",
      "29:\tlearn: 0.1588287\ttotal: 5.21s\tremaining: 12.1s\n",
      "30:\tlearn: 0.1578790\ttotal: 5.38s\tremaining: 12s\n",
      "31:\tlearn: 0.1567018\ttotal: 5.55s\tremaining: 11.8s\n",
      "32:\tlearn: 0.1556741\ttotal: 5.72s\tremaining: 11.6s\n",
      "33:\tlearn: 0.1542367\ttotal: 5.88s\tremaining: 11.4s\n",
      "34:\tlearn: 0.1533639\ttotal: 6.05s\tremaining: 11.2s\n",
      "35:\tlearn: 0.1526216\ttotal: 6.23s\tremaining: 11.1s\n",
      "36:\tlearn: 0.1519134\ttotal: 6.39s\tremaining: 10.9s\n",
      "37:\tlearn: 0.1511103\ttotal: 6.57s\tremaining: 10.7s\n",
      "38:\tlearn: 0.1503370\ttotal: 6.74s\tremaining: 10.5s\n",
      "39:\tlearn: 0.1495077\ttotal: 6.92s\tremaining: 10.4s\n",
      "40:\tlearn: 0.1485862\ttotal: 7.09s\tremaining: 10.2s\n",
      "41:\tlearn: 0.1478221\ttotal: 7.27s\tremaining: 10s\n",
      "42:\tlearn: 0.1473383\ttotal: 7.44s\tremaining: 9.86s\n",
      "43:\tlearn: 0.1468045\ttotal: 7.61s\tremaining: 9.68s\n",
      "44:\tlearn: 0.1461298\ttotal: 7.77s\tremaining: 9.5s\n",
      "45:\tlearn: 0.1453308\ttotal: 7.95s\tremaining: 9.33s\n",
      "46:\tlearn: 0.1448433\ttotal: 8.11s\tremaining: 9.15s\n",
      "47:\tlearn: 0.1443849\ttotal: 8.29s\tremaining: 8.97s\n",
      "48:\tlearn: 0.1437943\ttotal: 8.46s\tremaining: 8.8s\n",
      "49:\tlearn: 0.1428985\ttotal: 8.63s\tremaining: 8.63s\n",
      "50:\tlearn: 0.1424230\ttotal: 8.8s\tremaining: 8.45s\n",
      "51:\tlearn: 0.1419608\ttotal: 8.97s\tremaining: 8.28s\n",
      "52:\tlearn: 0.1415949\ttotal: 9.13s\tremaining: 8.1s\n",
      "53:\tlearn: 0.1411093\ttotal: 9.31s\tremaining: 7.93s\n",
      "54:\tlearn: 0.1407000\ttotal: 9.47s\tremaining: 7.75s\n",
      "55:\tlearn: 0.1402037\ttotal: 9.64s\tremaining: 7.57s\n",
      "56:\tlearn: 0.1397047\ttotal: 9.8s\tremaining: 7.4s\n",
      "57:\tlearn: 0.1392378\ttotal: 9.97s\tremaining: 7.22s\n",
      "58:\tlearn: 0.1389497\ttotal: 10.1s\tremaining: 7.04s\n",
      "59:\tlearn: 0.1384051\ttotal: 10.3s\tremaining: 6.88s\n",
      "60:\tlearn: 0.1381071\ttotal: 10.5s\tremaining: 6.71s\n",
      "61:\tlearn: 0.1374928\ttotal: 10.7s\tremaining: 6.54s\n",
      "62:\tlearn: 0.1368290\ttotal: 10.8s\tremaining: 6.37s\n",
      "63:\tlearn: 0.1365367\ttotal: 11s\tremaining: 6.19s\n",
      "64:\tlearn: 0.1359317\ttotal: 11.2s\tremaining: 6.02s\n",
      "65:\tlearn: 0.1354188\ttotal: 11.3s\tremaining: 5.85s\n",
      "66:\tlearn: 0.1351200\ttotal: 11.5s\tremaining: 5.67s\n",
      "67:\tlearn: 0.1346790\ttotal: 11.7s\tremaining: 5.5s\n",
      "68:\tlearn: 0.1343954\ttotal: 11.9s\tremaining: 5.33s\n",
      "69:\tlearn: 0.1340404\ttotal: 12s\tremaining: 5.15s\n",
      "70:\tlearn: 0.1337247\ttotal: 12.2s\tremaining: 4.98s\n",
      "71:\tlearn: 0.1332714\ttotal: 12.4s\tremaining: 4.81s\n",
      "72:\tlearn: 0.1328876\ttotal: 12.5s\tremaining: 4.64s\n",
      "73:\tlearn: 0.1325867\ttotal: 12.7s\tremaining: 4.46s\n",
      "74:\tlearn: 0.1320501\ttotal: 12.9s\tremaining: 4.29s\n",
      "75:\tlearn: 0.1318370\ttotal: 13s\tremaining: 4.12s\n",
      "76:\tlearn: 0.1313911\ttotal: 13.2s\tremaining: 3.95s\n",
      "77:\tlearn: 0.1311676\ttotal: 13.4s\tremaining: 3.78s\n",
      "78:\tlearn: 0.1309689\ttotal: 13.6s\tremaining: 3.6s\n",
      "79:\tlearn: 0.1307601\ttotal: 13.7s\tremaining: 3.43s\n",
      "80:\tlearn: 0.1303359\ttotal: 13.9s\tremaining: 3.26s\n",
      "81:\tlearn: 0.1301221\ttotal: 14.1s\tremaining: 3.09s\n",
      "82:\tlearn: 0.1299489\ttotal: 14.2s\tremaining: 2.92s\n",
      "83:\tlearn: 0.1294150\ttotal: 14.4s\tremaining: 2.74s\n",
      "84:\tlearn: 0.1289954\ttotal: 14.6s\tremaining: 2.57s\n",
      "85:\tlearn: 0.1287714\ttotal: 14.8s\tremaining: 2.4s\n",
      "86:\tlearn: 0.1285456\ttotal: 14.9s\tremaining: 2.23s\n",
      "87:\tlearn: 0.1283517\ttotal: 15.1s\tremaining: 2.06s\n",
      "88:\tlearn: 0.1280527\ttotal: 15.3s\tremaining: 1.89s\n",
      "89:\tlearn: 0.1278469\ttotal: 15.4s\tremaining: 1.72s\n",
      "90:\tlearn: 0.1273157\ttotal: 15.6s\tremaining: 1.54s\n",
      "91:\tlearn: 0.1271358\ttotal: 15.8s\tremaining: 1.37s\n",
      "92:\tlearn: 0.1269385\ttotal: 15.9s\tremaining: 1.2s\n",
      "93:\tlearn: 0.1266320\ttotal: 16.1s\tremaining: 1.03s\n",
      "94:\tlearn: 0.1264434\ttotal: 16.3s\tremaining: 857ms\n",
      "95:\tlearn: 0.1260181\ttotal: 16.5s\tremaining: 686ms\n",
      "96:\tlearn: 0.1256041\ttotal: 16.6s\tremaining: 514ms\n",
      "97:\tlearn: 0.1254295\ttotal: 16.8s\tremaining: 343ms\n",
      "98:\tlearn: 0.1250737\ttotal: 17s\tremaining: 171ms\n",
      "99:\tlearn: 0.1246707\ttotal: 17.1s\tremaining: 0us\n",
      "Learning rate set to 0.5\n",
      "0:\tlearn: 0.3371527\ttotal: 399ms\tremaining: 39.5s\n",
      "1:\tlearn: 0.2542331\ttotal: 741ms\tremaining: 36.3s\n",
      "2:\tlearn: 0.2266571\ttotal: 1.1s\tremaining: 35.5s\n",
      "3:\tlearn: 0.2146224\ttotal: 1.45s\tremaining: 34.9s\n",
      "4:\tlearn: 0.2049930\ttotal: 1.79s\tremaining: 34.1s\n",
      "5:\tlearn: 0.1991860\ttotal: 2.13s\tremaining: 33.4s\n",
      "6:\tlearn: 0.1939800\ttotal: 2.47s\tremaining: 32.9s\n",
      "7:\tlearn: 0.1871269\ttotal: 2.82s\tremaining: 32.4s\n",
      "8:\tlearn: 0.1832185\ttotal: 3.16s\tremaining: 31.9s\n",
      "9:\tlearn: 0.1796040\ttotal: 3.5s\tremaining: 31.5s\n",
      "10:\tlearn: 0.1766989\ttotal: 3.85s\tremaining: 31.1s\n",
      "11:\tlearn: 0.1746156\ttotal: 4.18s\tremaining: 30.6s\n",
      "12:\tlearn: 0.1721775\ttotal: 4.52s\tremaining: 30.3s\n",
      "13:\tlearn: 0.1697273\ttotal: 4.86s\tremaining: 29.9s\n",
      "14:\tlearn: 0.1679160\ttotal: 5.2s\tremaining: 29.4s\n",
      "15:\tlearn: 0.1662225\ttotal: 5.53s\tremaining: 29s\n",
      "16:\tlearn: 0.1644235\ttotal: 5.87s\tremaining: 28.7s\n",
      "17:\tlearn: 0.1629324\ttotal: 6.2s\tremaining: 28.3s\n",
      "18:\tlearn: 0.1613522\ttotal: 6.54s\tremaining: 27.9s\n",
      "19:\tlearn: 0.1591611\ttotal: 6.89s\tremaining: 27.5s\n",
      "20:\tlearn: 0.1569585\ttotal: 7.23s\tremaining: 27.2s\n",
      "21:\tlearn: 0.1558526\ttotal: 7.57s\tremaining: 26.8s\n",
      "22:\tlearn: 0.1545822\ttotal: 7.9s\tremaining: 26.5s\n",
      "23:\tlearn: 0.1530534\ttotal: 8.24s\tremaining: 26.1s\n",
      "24:\tlearn: 0.1517913\ttotal: 8.59s\tremaining: 25.8s\n",
      "25:\tlearn: 0.1508166\ttotal: 8.93s\tremaining: 25.4s\n",
      "26:\tlearn: 0.1494850\ttotal: 9.27s\tremaining: 25.1s\n",
      "27:\tlearn: 0.1485382\ttotal: 9.61s\tremaining: 24.7s\n",
      "28:\tlearn: 0.1469083\ttotal: 9.96s\tremaining: 24.4s\n",
      "29:\tlearn: 0.1457692\ttotal: 10.3s\tremaining: 24s\n",
      "30:\tlearn: 0.1446278\ttotal: 10.7s\tremaining: 23.7s\n",
      "31:\tlearn: 0.1438467\ttotal: 11s\tremaining: 23.4s\n",
      "32:\tlearn: 0.1429293\ttotal: 11.3s\tremaining: 23s\n",
      "33:\tlearn: 0.1420099\ttotal: 11.7s\tremaining: 22.7s\n",
      "34:\tlearn: 0.1411787\ttotal: 12s\tremaining: 22.3s\n",
      "35:\tlearn: 0.1404445\ttotal: 12.3s\tremaining: 21.9s\n",
      "36:\tlearn: 0.1399017\ttotal: 12.7s\tremaining: 21.6s\n",
      "37:\tlearn: 0.1389503\ttotal: 13s\tremaining: 21.3s\n",
      "38:\tlearn: 0.1383797\ttotal: 13.4s\tremaining: 20.9s\n",
      "39:\tlearn: 0.1372814\ttotal: 13.7s\tremaining: 20.6s\n",
      "40:\tlearn: 0.1368445\ttotal: 14s\tremaining: 20.2s\n",
      "41:\tlearn: 0.1362222\ttotal: 14.4s\tremaining: 19.9s\n",
      "42:\tlearn: 0.1356213\ttotal: 14.7s\tremaining: 19.5s\n",
      "43:\tlearn: 0.1352057\ttotal: 15.1s\tremaining: 19.2s\n",
      "44:\tlearn: 0.1346702\ttotal: 15.4s\tremaining: 18.8s\n",
      "45:\tlearn: 0.1340872\ttotal: 15.7s\tremaining: 18.5s\n",
      "46:\tlearn: 0.1334798\ttotal: 16.1s\tremaining: 18.1s\n",
      "47:\tlearn: 0.1325973\ttotal: 16.4s\tremaining: 17.8s\n",
      "48:\tlearn: 0.1321959\ttotal: 16.7s\tremaining: 17.4s\n",
      "49:\tlearn: 0.1316088\ttotal: 17.1s\tremaining: 17.1s\n",
      "50:\tlearn: 0.1310985\ttotal: 17.4s\tremaining: 16.7s\n",
      "51:\tlearn: 0.1307143\ttotal: 17.7s\tremaining: 16.4s\n",
      "52:\tlearn: 0.1303932\ttotal: 18.1s\tremaining: 16s\n",
      "53:\tlearn: 0.1296213\ttotal: 18.4s\tremaining: 15.7s\n",
      "54:\tlearn: 0.1290311\ttotal: 18.8s\tremaining: 15.4s\n",
      "55:\tlearn: 0.1285015\ttotal: 19.1s\tremaining: 15s\n",
      "56:\tlearn: 0.1278747\ttotal: 19.5s\tremaining: 14.7s\n",
      "57:\tlearn: 0.1275711\ttotal: 19.8s\tremaining: 14.3s\n",
      "58:\tlearn: 0.1271288\ttotal: 20.1s\tremaining: 14s\n",
      "59:\tlearn: 0.1268015\ttotal: 20.5s\tremaining: 13.6s\n",
      "60:\tlearn: 0.1265315\ttotal: 20.8s\tremaining: 13.3s\n",
      "61:\tlearn: 0.1261153\ttotal: 21.1s\tremaining: 13s\n",
      "62:\tlearn: 0.1256885\ttotal: 21.5s\tremaining: 12.6s\n",
      "63:\tlearn: 0.1254039\ttotal: 21.8s\tremaining: 12.3s\n",
      "64:\tlearn: 0.1249225\ttotal: 22.2s\tremaining: 11.9s\n",
      "65:\tlearn: 0.1245340\ttotal: 22.5s\tremaining: 11.6s\n",
      "66:\tlearn: 0.1242907\ttotal: 22.8s\tremaining: 11.3s\n",
      "67:\tlearn: 0.1237024\ttotal: 23.2s\tremaining: 10.9s\n",
      "68:\tlearn: 0.1233621\ttotal: 23.5s\tremaining: 10.6s\n",
      "69:\tlearn: 0.1231492\ttotal: 23.9s\tremaining: 10.2s\n",
      "70:\tlearn: 0.1229159\ttotal: 24.2s\tremaining: 9.88s\n",
      "71:\tlearn: 0.1225535\ttotal: 24.5s\tremaining: 9.54s\n",
      "72:\tlearn: 0.1219308\ttotal: 24.9s\tremaining: 9.2s\n",
      "73:\tlearn: 0.1216956\ttotal: 25.2s\tremaining: 8.86s\n",
      "74:\tlearn: 0.1209206\ttotal: 25.6s\tremaining: 8.52s\n",
      "75:\tlearn: 0.1204521\ttotal: 25.9s\tremaining: 8.18s\n",
      "76:\tlearn: 0.1202340\ttotal: 26.2s\tremaining: 7.84s\n",
      "77:\tlearn: 0.1195487\ttotal: 26.6s\tremaining: 7.5s\n",
      "78:\tlearn: 0.1190216\ttotal: 26.9s\tremaining: 7.16s\n",
      "79:\tlearn: 0.1188048\ttotal: 27.3s\tremaining: 6.82s\n",
      "80:\tlearn: 0.1184400\ttotal: 27.6s\tremaining: 6.47s\n",
      "81:\tlearn: 0.1182123\ttotal: 27.9s\tremaining: 6.13s\n",
      "82:\tlearn: 0.1176945\ttotal: 28.3s\tremaining: 5.79s\n",
      "83:\tlearn: 0.1172324\ttotal: 28.6s\tremaining: 5.45s\n",
      "84:\tlearn: 0.1169062\ttotal: 29s\tremaining: 5.11s\n",
      "85:\tlearn: 0.1167006\ttotal: 29.3s\tremaining: 4.77s\n",
      "86:\tlearn: 0.1162465\ttotal: 29.6s\tremaining: 4.43s\n",
      "87:\tlearn: 0.1159041\ttotal: 30s\tremaining: 4.09s\n",
      "88:\tlearn: 0.1156889\ttotal: 30.3s\tremaining: 3.75s\n",
      "89:\tlearn: 0.1154957\ttotal: 30.7s\tremaining: 3.4s\n",
      "90:\tlearn: 0.1152938\ttotal: 31s\tremaining: 3.06s\n",
      "91:\tlearn: 0.1150846\ttotal: 31.3s\tremaining: 2.72s\n",
      "92:\tlearn: 0.1148710\ttotal: 31.7s\tremaining: 2.38s\n",
      "93:\tlearn: 0.1146849\ttotal: 32s\tremaining: 2.04s\n",
      "94:\tlearn: 0.1144825\ttotal: 32.3s\tremaining: 1.7s\n",
      "95:\tlearn: 0.1141193\ttotal: 32.7s\tremaining: 1.36s\n",
      "96:\tlearn: 0.1138951\ttotal: 33s\tremaining: 1.02s\n",
      "97:\tlearn: 0.1137139\ttotal: 33.3s\tremaining: 680ms\n",
      "98:\tlearn: 0.1133424\ttotal: 33.7s\tremaining: 340ms\n",
      "99:\tlearn: 0.1131421\ttotal: 34s\tremaining: 0us\n",
      "Learning rate set to 0.5\n",
      "0:\tlearn: 0.3282277\ttotal: 1.55s\tremaining: 2m 34s\n",
      "1:\tlearn: 0.2460732\ttotal: 2.64s\tremaining: 2m 9s\n",
      "2:\tlearn: 0.2185561\ttotal: 3.73s\tremaining: 2m\n",
      "3:\tlearn: 0.2052898\ttotal: 4.81s\tremaining: 1m 55s\n",
      "4:\tlearn: 0.1970450\ttotal: 5.9s\tremaining: 1m 52s\n",
      "5:\tlearn: 0.1909862\ttotal: 6.98s\tremaining: 1m 49s\n",
      "6:\tlearn: 0.1843406\ttotal: 8.07s\tremaining: 1m 47s\n",
      "7:\tlearn: 0.1785639\ttotal: 9.15s\tremaining: 1m 45s\n",
      "8:\tlearn: 0.1748429\ttotal: 10.2s\tremaining: 1m 43s\n",
      "9:\tlearn: 0.1718167\ttotal: 11.3s\tremaining: 1m 41s\n",
      "10:\tlearn: 0.1694994\ttotal: 12.4s\tremaining: 1m 40s\n",
      "11:\tlearn: 0.1658287\ttotal: 13.5s\tremaining: 1m 38s\n",
      "12:\tlearn: 0.1636221\ttotal: 14.6s\tremaining: 1m 37s\n",
      "13:\tlearn: 0.1614135\ttotal: 15.6s\tremaining: 1m 36s\n",
      "14:\tlearn: 0.1591708\ttotal: 16.7s\tremaining: 1m 34s\n",
      "15:\tlearn: 0.1571856\ttotal: 17.8s\tremaining: 1m 33s\n",
      "16:\tlearn: 0.1555466\ttotal: 18.9s\tremaining: 1m 32s\n",
      "17:\tlearn: 0.1541936\ttotal: 19.9s\tremaining: 1m 30s\n",
      "18:\tlearn: 0.1527262\ttotal: 21s\tremaining: 1m 29s\n",
      "19:\tlearn: 0.1511979\ttotal: 22.1s\tremaining: 1m 28s\n",
      "20:\tlearn: 0.1496726\ttotal: 23.2s\tremaining: 1m 27s\n",
      "21:\tlearn: 0.1482639\ttotal: 24.3s\tremaining: 1m 26s\n",
      "22:\tlearn: 0.1467632\ttotal: 25.4s\tremaining: 1m 24s\n",
      "23:\tlearn: 0.1453106\ttotal: 26.5s\tremaining: 1m 23s\n",
      "24:\tlearn: 0.1443416\ttotal: 27.5s\tremaining: 1m 22s\n",
      "25:\tlearn: 0.1430273\ttotal: 28.6s\tremaining: 1m 21s\n",
      "26:\tlearn: 0.1419377\ttotal: 29.7s\tremaining: 1m 20s\n",
      "27:\tlearn: 0.1408851\ttotal: 30.8s\tremaining: 1m 19s\n",
      "28:\tlearn: 0.1400075\ttotal: 31.8s\tremaining: 1m 17s\n",
      "29:\tlearn: 0.1388760\ttotal: 32.9s\tremaining: 1m 16s\n",
      "30:\tlearn: 0.1377115\ttotal: 34s\tremaining: 1m 15s\n",
      "31:\tlearn: 0.1369876\ttotal: 35s\tremaining: 1m 14s\n",
      "32:\tlearn: 0.1362505\ttotal: 36.1s\tremaining: 1m 13s\n",
      "33:\tlearn: 0.1356050\ttotal: 37.2s\tremaining: 1m 12s\n",
      "34:\tlearn: 0.1346444\ttotal: 38.3s\tremaining: 1m 11s\n",
      "35:\tlearn: 0.1335691\ttotal: 39.3s\tremaining: 1m 9s\n",
      "36:\tlearn: 0.1324209\ttotal: 40.4s\tremaining: 1m 8s\n",
      "37:\tlearn: 0.1316608\ttotal: 41.5s\tremaining: 1m 7s\n",
      "38:\tlearn: 0.1310343\ttotal: 42.6s\tremaining: 1m 6s\n",
      "39:\tlearn: 0.1305635\ttotal: 43.6s\tremaining: 1m 5s\n",
      "40:\tlearn: 0.1301045\ttotal: 44.7s\tremaining: 1m 4s\n",
      "41:\tlearn: 0.1294149\ttotal: 45.8s\tremaining: 1m 3s\n",
      "42:\tlearn: 0.1285929\ttotal: 46.9s\tremaining: 1m 2s\n",
      "43:\tlearn: 0.1276638\ttotal: 47.9s\tremaining: 1m 1s\n",
      "44:\tlearn: 0.1266331\ttotal: 49s\tremaining: 59.9s\n",
      "45:\tlearn: 0.1262254\ttotal: 50.1s\tremaining: 58.8s\n",
      "46:\tlearn: 0.1258253\ttotal: 51.2s\tremaining: 57.7s\n",
      "47:\tlearn: 0.1250571\ttotal: 52.3s\tremaining: 56.6s\n",
      "48:\tlearn: 0.1243067\ttotal: 53.3s\tremaining: 55.5s\n",
      "49:\tlearn: 0.1234662\ttotal: 54.4s\tremaining: 54.4s\n",
      "50:\tlearn: 0.1224906\ttotal: 55.5s\tremaining: 53.3s\n",
      "51:\tlearn: 0.1221738\ttotal: 56.6s\tremaining: 52.2s\n",
      "52:\tlearn: 0.1211695\ttotal: 57.6s\tremaining: 51.1s\n",
      "53:\tlearn: 0.1206068\ttotal: 58.7s\tremaining: 50s\n",
      "54:\tlearn: 0.1199724\ttotal: 59.8s\tremaining: 48.9s\n",
      "55:\tlearn: 0.1195320\ttotal: 1m\tremaining: 47.8s\n",
      "56:\tlearn: 0.1188069\ttotal: 1m 1s\tremaining: 46.7s\n",
      "57:\tlearn: 0.1184214\ttotal: 1m 2s\tremaining: 45.6s\n",
      "58:\tlearn: 0.1180308\ttotal: 1m 4s\tremaining: 44.5s\n",
      "59:\tlearn: 0.1174620\ttotal: 1m 5s\tremaining: 43.4s\n",
      "60:\tlearn: 0.1169125\ttotal: 1m 6s\tremaining: 42.3s\n",
      "61:\tlearn: 0.1166184\ttotal: 1m 7s\tremaining: 41.2s\n",
      "62:\tlearn: 0.1162791\ttotal: 1m 8s\tremaining: 40.2s\n",
      "63:\tlearn: 0.1157425\ttotal: 1m 9s\tremaining: 39.1s\n",
      "64:\tlearn: 0.1154425\ttotal: 1m 10s\tremaining: 38s\n",
      "65:\tlearn: 0.1149987\ttotal: 1m 11s\tremaining: 36.9s\n",
      "66:\tlearn: 0.1147172\ttotal: 1m 12s\tremaining: 35.8s\n",
      "67:\tlearn: 0.1144444\ttotal: 1m 13s\tremaining: 34.7s\n",
      "68:\tlearn: 0.1141809\ttotal: 1m 14s\tremaining: 33.6s\n",
      "69:\tlearn: 0.1139340\ttotal: 1m 15s\tremaining: 32.5s\n",
      "70:\tlearn: 0.1135360\ttotal: 1m 17s\tremaining: 31.5s\n",
      "71:\tlearn: 0.1130958\ttotal: 1m 18s\tremaining: 30.4s\n",
      "72:\tlearn: 0.1128547\ttotal: 1m 19s\tremaining: 29.3s\n",
      "73:\tlearn: 0.1126287\ttotal: 1m 20s\tremaining: 28.2s\n",
      "74:\tlearn: 0.1117058\ttotal: 1m 21s\tremaining: 27.1s\n",
      "75:\tlearn: 0.1114004\ttotal: 1m 22s\tremaining: 26s\n",
      "76:\tlearn: 0.1111846\ttotal: 1m 23s\tremaining: 24.9s\n",
      "77:\tlearn: 0.1109729\ttotal: 1m 24s\tremaining: 23.8s\n",
      "78:\tlearn: 0.1107564\ttotal: 1m 25s\tremaining: 22.7s\n",
      "79:\tlearn: 0.1105461\ttotal: 1m 26s\tremaining: 21.7s\n",
      "80:\tlearn: 0.1100493\ttotal: 1m 27s\tremaining: 20.6s\n",
      "81:\tlearn: 0.1096984\ttotal: 1m 28s\tremaining: 19.5s\n",
      "82:\tlearn: 0.1095075\ttotal: 1m 29s\tremaining: 18.4s\n",
      "83:\tlearn: 0.1089634\ttotal: 1m 30s\tremaining: 17.3s\n",
      "84:\tlearn: 0.1087462\ttotal: 1m 32s\tremaining: 16.2s\n",
      "85:\tlearn: 0.1084809\ttotal: 1m 33s\tremaining: 15.2s\n",
      "86:\tlearn: 0.1079381\ttotal: 1m 34s\tremaining: 14.1s\n",
      "87:\tlearn: 0.1076768\ttotal: 1m 35s\tremaining: 13s\n",
      "88:\tlearn: 0.1075037\ttotal: 1m 36s\tremaining: 11.9s\n",
      "89:\tlearn: 0.1073358\ttotal: 1m 37s\tremaining: 10.8s\n",
      "90:\tlearn: 0.1068301\ttotal: 1m 38s\tremaining: 9.74s\n",
      "91:\tlearn: 0.1066457\ttotal: 1m 39s\tremaining: 8.66s\n",
      "92:\tlearn: 0.1064061\ttotal: 1m 40s\tremaining: 7.58s\n",
      "93:\tlearn: 0.1058790\ttotal: 1m 41s\tremaining: 6.49s\n",
      "94:\tlearn: 0.1054489\ttotal: 1m 42s\tremaining: 5.41s\n",
      "95:\tlearn: 0.1050120\ttotal: 1m 43s\tremaining: 4.33s\n",
      "96:\tlearn: 0.1043492\ttotal: 1m 45s\tremaining: 3.25s\n",
      "97:\tlearn: 0.1041809\ttotal: 1m 46s\tremaining: 2.17s\n",
      "98:\tlearn: 0.1039171\ttotal: 1m 47s\tremaining: 1.08s\n",
      "99:\tlearn: 0.1035647\ttotal: 1m 48s\tremaining: 0us\n",
      "0.7472291741151234\n",
      "8\n",
      "100\n"
     ]
    }
   ],
   "source": [
    "best_result = 0\n",
    "best_depth = 0\n",
    "best_iterations = 0\n",
    "for depth in range(2, 10, 2):\n",
    "    for iterations_i in range(100, 200, 100):\n",
    "        model_cat = CatBoostClassifier(\n",
    "                                      random_state=12345,\n",
    "                                      task_type='CPU',\n",
    "                                      iterations=iterations_i,\n",
    "                                      depth = depth,\n",
    "                                      od_type='Iter'\n",
    "                                      )\n",
    "        model_cat.fit(tf_idf_train, target_train)\n",
    "        predictions = model_cat.predict(tf_idf_test)\n",
    "        f1 = f1_score(test_target, predictions)\n",
    "        if best_result < f1:\n",
    "            best_result = f1\n",
    "            best_depth = depth\n",
    "            best_iterations = iterations_i\n",
    "print(best_result)\n",
    "print(best_depth)\n",
    "print(best_iterations)"
   ]
  },
  {
   "cell_type": "code",
   "execution_count": 21,
   "metadata": {},
   "outputs": [
    {
     "data": {
      "text/plain": [
       "0.7621908127208481"
      ]
     },
     "execution_count": 21,
     "metadata": {},
     "output_type": "execute_result"
    }
   ],
   "source": [
    "model = CatBoostClassifier(\n",
    "    random_state=12345,\n",
    "    task_type='CPU',\n",
    "    iterations=100,\n",
    "    depth = 8,\n",
    "    od_type='Iter'                                   \n",
    ")\n",
    "predictions = model_cat.predict(tf_idf_valid)\n",
    "f1_score(target_valid, predictions)\n"
   ]
  },
  {
   "cell_type": "markdown",
   "metadata": {},
   "source": [
    "**CatBoostRegressor с показателями:**\n",
    "\n",
    "***На тестовой выборке F1 = 0.74***\n",
    "\n",
    "***На валидационной выборке F1 = 0.76***"
   ]
  },
  {
   "cell_type": "markdown",
   "metadata": {},
   "source": [
    "## Выводы"
   ]
  },
  {
   "cell_type": "markdown",
   "metadata": {},
   "source": [
    "**Были проведенные исследования данных и были выполненны следующие действия:**\n",
    "\n",
    "**Данные были загруженны**\n",
    "\n",
    "**Так же данные были лемматизированны**\n",
    "\n",
    "**Данные были подготовленны к обучению моделий, а так же из них были удалены стоп-слова**\n",
    "\n",
    "**Были обучены три модели и они показали следующий результат:**\n",
    "\n",
    "***Модель логической регрессии - F1 = 0.7791***\n",
    "\n",
    "***Модель решающего древа - F1 = 0.52***\n",
    "\n",
    "***Модель CatBoostClassifier:***\n",
    "\n",
    "***На тестовой выборке F1 = 0.74***\n",
    "\n",
    "***На валидационной выборке F1 = 0.76***\n",
    "\n",
    "**Модель логической регрессии показала себя лучшей среди тестируемых c F1 = 0.77**"
   ]
  }
 ],
 "metadata": {
  "ExecuteTimeLog": [
   {
    "duration": 997,
    "start_time": "2023-07-09T16:17:28.834Z"
   }
  ],
  "kernelspec": {
   "display_name": "Python 3 (ipykernel)",
   "language": "python",
   "name": "python3"
  },
  "language_info": {
   "codemirror_mode": {
    "name": "ipython",
    "version": 3
   },
   "file_extension": ".py",
   "mimetype": "text/x-python",
   "name": "python",
   "nbconvert_exporter": "python",
   "pygments_lexer": "ipython3",
   "version": "3.11.6"
  },
  "toc": {
   "base_numbering": 1,
   "nav_menu": {},
   "number_sections": true,
   "sideBar": true,
   "skip_h1_title": true,
   "title_cell": "Table of Contents",
   "title_sidebar": "Contents",
   "toc_cell": false,
   "toc_position": {},
   "toc_section_display": true,
   "toc_window_display": false
  }
 },
 "nbformat": 4,
 "nbformat_minor": 2
}
